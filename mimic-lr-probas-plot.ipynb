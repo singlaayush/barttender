{
 "cells": [
  {
   "cell_type": "markdown",
   "metadata": {},
   "source": [
    "## Imports"
   ]
  },
  {
   "cell_type": "code",
   "execution_count": 1,
   "metadata": {},
   "outputs": [],
   "source": [
    "# autoreload import module on change (does not work with from x import y)\n",
    "%load_ext autoreload\n",
    "%autoreload 2"
   ]
  },
  {
   "cell_type": "code",
   "execution_count": 1,
   "metadata": {},
   "outputs": [],
   "source": [
    "# Import functions\n",
    "import pandas as pd\n",
    "import numpy as np\n",
    "from pathlib import Path\n",
    "from mimic_constants import *\n",
    "from sklearn.ensemble import HistGradientBoostingClassifier"
   ]
  },
  {
   "cell_type": "code",
   "execution_count": 2,
   "metadata": {},
   "outputs": [],
   "source": [
    "from sklearn.model_selection import train_test_split\n",
    "from sklearn.impute import SimpleImputer\n",
    "from sklearn.preprocessing import StandardScaler\n",
    "import statsmodels.api as sm\n",
    "from sklearn.metrics import roc_auc_score, f1_score, confusion_matrix"
   ]
  },
  {
   "cell_type": "code",
   "execution_count": 3,
   "metadata": {},
   "outputs": [],
   "source": [
    "# Import cleaned master dataframe\n",
    "df_master_cleaned = get_master_df(idp=True)"
   ]
  },
  {
   "cell_type": "markdown",
   "metadata": {},
   "source": [
    "## Removing columns with too many NaNs"
   ]
  },
  {
   "cell_type": "code",
   "execution_count": 4,
   "metadata": {},
   "outputs": [],
   "source": [
    "df = df_master_cleaned\n",
    "select_col_groups = []\n",
    "removed_col_groups = []\n",
    "og_col_groups = [chart_labels_mean_cols, chart_labels_max_cols, chart_labels_min_cols, lab_labels_mean_cols, lab_labels_max_cols, lab_labels_min_cols]\n",
    "for col_group in og_col_groups:\n",
    "    nan_counts = df_master_cleaned[col_group].isna().sum()\n",
    "    too_many_nans = nan_counts[nan_counts > 500].index.tolist()\n",
    "    df = df.drop(too_many_nans, axis=1)\n",
    "    col_group = list(set(col_group) - set(too_many_nans))\n",
    "    select_col_groups.append(col_group)\n",
    "    removed_col_groups.append(too_many_nans)"
   ]
  },
  {
   "cell_type": "code",
   "execution_count": 5,
   "metadata": {},
   "outputs": [
    {
     "data": {
      "text/html": [
       "<div>\n",
       "<style scoped>\n",
       "    .dataframe tbody tr th:only-of-type {\n",
       "        vertical-align: middle;\n",
       "    }\n",
       "\n",
       "    .dataframe tbody tr th {\n",
       "        vertical-align: top;\n",
       "    }\n",
       "\n",
       "    .dataframe thead th {\n",
       "        text-align: right;\n",
       "    }\n",
       "</style>\n",
       "<table border=\"1\" class=\"dataframe\">\n",
       "  <thead>\n",
       "    <tr style=\"text-align: right;\">\n",
       "      <th></th>\n",
       "      <th>Temp(F)_mean</th>\n",
       "      <th>Sodium_mean</th>\n",
       "      <th>PlateletCount_mean</th>\n",
       "      <th>HR_mean</th>\n",
       "      <th>NBPm_mean</th>\n",
       "      <th>NBPs_mean</th>\n",
       "      <th>RR_mean</th>\n",
       "      <th>SpO2_mean</th>\n",
       "      <th>NBPd_mean</th>\n",
       "    </tr>\n",
       "  </thead>\n",
       "  <tbody>\n",
       "    <tr>\n",
       "      <th>0</th>\n",
       "      <td>98.98913</td>\n",
       "      <td>136.500000</td>\n",
       "      <td>136.200000</td>\n",
       "      <td>70.800000</td>\n",
       "      <td>90.529412</td>\n",
       "      <td>129.176471</td>\n",
       "      <td>19.044444</td>\n",
       "      <td>97.648649</td>\n",
       "      <td>74.669683</td>\n",
       "    </tr>\n",
       "    <tr>\n",
       "      <th>1</th>\n",
       "      <td>97.50000</td>\n",
       "      <td>138.333333</td>\n",
       "      <td>251.333333</td>\n",
       "      <td>94.214286</td>\n",
       "      <td>75.400000</td>\n",
       "      <td>110.500000</td>\n",
       "      <td>15.185185</td>\n",
       "      <td>96.730769</td>\n",
       "      <td>64.500000</td>\n",
       "    </tr>\n",
       "  </tbody>\n",
       "</table>\n",
       "</div>"
      ],
      "text/plain": [
       "   Temp(F)_mean  Sodium_mean  PlateletCount_mean    HR_mean  NBPm_mean  \\\n",
       "0      98.98913   136.500000          136.200000  70.800000  90.529412   \n",
       "1      97.50000   138.333333          251.333333  94.214286  75.400000   \n",
       "\n",
       "    NBPs_mean    RR_mean  SpO2_mean  NBPd_mean  \n",
       "0  129.176471  19.044444  97.648649  74.669683  \n",
       "1  110.500000  15.185185  96.730769  64.500000  "
      ]
     },
     "execution_count": 5,
     "metadata": {},
     "output_type": "execute_result"
    }
   ],
   "source": [
    "df[select_col_groups[0]].head(2)"
   ]
  },
  {
   "cell_type": "code",
   "execution_count": 6,
   "metadata": {},
   "outputs": [
    {
     "data": {
      "text/html": [
       "<div>\n",
       "<style scoped>\n",
       "    .dataframe tbody tr th:only-of-type {\n",
       "        vertical-align: middle;\n",
       "    }\n",
       "\n",
       "    .dataframe tbody tr th {\n",
       "        vertical-align: top;\n",
       "    }\n",
       "\n",
       "    .dataframe thead th {\n",
       "        text-align: right;\n",
       "    }\n",
       "</style>\n",
       "<table border=\"1\" class=\"dataframe\">\n",
       "  <thead>\n",
       "    <tr style=\"text-align: right;\">\n",
       "      <th></th>\n",
       "      <th>Glucose_mean</th>\n",
       "      <th>Creatinine_mean</th>\n",
       "      <th>Chloride_mean</th>\n",
       "      <th>Magnesium_mean</th>\n",
       "      <th>PTT_mean</th>\n",
       "      <th>Calcium_Total_mean</th>\n",
       "      <th>Phosphate_mean</th>\n",
       "      <th>Urea_Nitrogren_mean</th>\n",
       "      <th>Hematocrit_mean</th>\n",
       "      <th>Potassium_mean</th>\n",
       "    </tr>\n",
       "  </thead>\n",
       "  <tbody>\n",
       "    <tr>\n",
       "      <th>0</th>\n",
       "      <td>149.444444</td>\n",
       "      <td>0.905556</td>\n",
       "      <td>95.777778</td>\n",
       "      <td>2.194444</td>\n",
       "      <td>58.061765</td>\n",
       "      <td>8.994444</td>\n",
       "      <td>3.172222</td>\n",
       "      <td>25.611111</td>\n",
       "      <td>29.436842</td>\n",
       "      <td>4.638889</td>\n",
       "    </tr>\n",
       "    <tr>\n",
       "      <th>1</th>\n",
       "      <td>181.750000</td>\n",
       "      <td>1.000000</td>\n",
       "      <td>102.142857</td>\n",
       "      <td>2.100000</td>\n",
       "      <td>26.300000</td>\n",
       "      <td>NaN</td>\n",
       "      <td>NaN</td>\n",
       "      <td>15.600000</td>\n",
       "      <td>31.085714</td>\n",
       "      <td>4.214286</td>\n",
       "    </tr>\n",
       "  </tbody>\n",
       "</table>\n",
       "</div>"
      ],
      "text/plain": [
       "   Glucose_mean  Creatinine_mean  Chloride_mean  Magnesium_mean   PTT_mean  \\\n",
       "0    149.444444         0.905556      95.777778        2.194444  58.061765   \n",
       "1    181.750000         1.000000     102.142857        2.100000  26.300000   \n",
       "\n",
       "   Calcium_Total_mean  Phosphate_mean  Urea_Nitrogren_mean  Hematocrit_mean  \\\n",
       "0            8.994444        3.172222            25.611111        29.436842   \n",
       "1                 NaN             NaN            15.600000        31.085714   \n",
       "\n",
       "   Potassium_mean  \n",
       "0        4.638889  \n",
       "1        4.214286  "
      ]
     },
     "execution_count": 6,
     "metadata": {},
     "output_type": "execute_result"
    }
   ],
   "source": [
    "df[select_col_groups[3]].head(2)"
   ]
  },
  {
   "cell_type": "code",
   "execution_count": 7,
   "metadata": {},
   "outputs": [
    {
     "data": {
      "text/plain": [
       "(2265, 57)"
      ]
     },
     "execution_count": 7,
     "metadata": {},
     "output_type": "execute_result"
    }
   ],
   "source": [
    "df.dropna().shape"
   ]
  },
  {
   "cell_type": "code",
   "execution_count": 8,
   "metadata": {},
   "outputs": [
    {
     "data": {
      "text/plain": [
       "NBPs_mean               20\n",
       "NBPd_mean               22\n",
       "NBPm_mean               18\n",
       "SpO2_mean                2\n",
       "Sodium_mean             68\n",
       "Temp(F)_mean            27\n",
       "PlateletCount_mean      88\n",
       "NBPs_max                20\n",
       "NBPd_max                22\n",
       "NBPm_max                18\n",
       "Sodium_max              68\n",
       "NBPs_min                20\n",
       "NBPd_min                22\n",
       "NBPm_min                18\n",
       "SpO2_min                 2\n",
       "Sodium_min              68\n",
       "Calcium_Total_mean      45\n",
       "Chloride_mean           13\n",
       "Creatinine_mean         13\n",
       "Glucose_mean            13\n",
       "Magnesium_mean          15\n",
       "Phosphate_mean          40\n",
       "Potassium_mean          13\n",
       "Urea_Nitrogren_mean     13\n",
       "Hematocrit_mean         13\n",
       "PTT_mean               204\n",
       "Potassium_max           13\n",
       "Potassium_min           13\n",
       "CTR                     36\n",
       "CPAR                    74\n",
       "dtype: int64"
      ]
     },
     "execution_count": 8,
     "metadata": {},
     "output_type": "execute_result"
    }
   ],
   "source": [
    "df.isna().sum()[(df.isna().sum() > 0) & (df.isna().sum() < 1000)]"
   ]
  },
  {
   "cell_type": "code",
   "execution_count": 9,
   "metadata": {},
   "outputs": [
    {
     "data": {
      "text/html": [
       "<div>\n",
       "<style scoped>\n",
       "    .dataframe tbody tr th:only-of-type {\n",
       "        vertical-align: middle;\n",
       "    }\n",
       "\n",
       "    .dataframe tbody tr th {\n",
       "        vertical-align: top;\n",
       "    }\n",
       "\n",
       "    .dataframe thead th {\n",
       "        text-align: right;\n",
       "    }\n",
       "</style>\n",
       "<table border=\"1\" class=\"dataframe\">\n",
       "  <thead>\n",
       "    <tr style=\"text-align: right;\">\n",
       "      <th></th>\n",
       "      <th>ABPm_mean</th>\n",
       "      <th>ABPd_mean</th>\n",
       "      <th>ABPs_mean</th>\n",
       "      <th>FiO2_mean</th>\n",
       "      <th>PH_mean</th>\n",
       "      <th>PCO2_mean</th>\n",
       "      <th>SaO2_mean</th>\n",
       "      <th>Albumin_mean</th>\n",
       "      <th>Cholesterol_mean</th>\n",
       "      <th>PO2_mean</th>\n",
       "    </tr>\n",
       "  </thead>\n",
       "  <tbody>\n",
       "    <tr>\n",
       "      <th>2660</th>\n",
       "      <td>NaN</td>\n",
       "      <td>NaN</td>\n",
       "      <td>NaN</td>\n",
       "      <td>NaN</td>\n",
       "      <td>NaN</td>\n",
       "      <td>NaN</td>\n",
       "      <td>NaN</td>\n",
       "      <td>2.4</td>\n",
       "      <td>NaN</td>\n",
       "      <td>NaN</td>\n",
       "    </tr>\n",
       "    <tr>\n",
       "      <th>2661</th>\n",
       "      <td>76.461538</td>\n",
       "      <td>54.538462</td>\n",
       "      <td>114.692308</td>\n",
       "      <td>60.555556</td>\n",
       "      <td>NaN</td>\n",
       "      <td>60.666667</td>\n",
       "      <td>98.0</td>\n",
       "      <td>NaN</td>\n",
       "      <td>NaN</td>\n",
       "      <td>130.0</td>\n",
       "    </tr>\n",
       "  </tbody>\n",
       "</table>\n",
       "</div>"
      ],
      "text/plain": [
       "      ABPm_mean  ABPd_mean   ABPs_mean  FiO2_mean  PH_mean  PCO2_mean  \\\n",
       "2660        NaN        NaN         NaN        NaN      NaN        NaN   \n",
       "2661  76.461538  54.538462  114.692308  60.555556      NaN  60.666667   \n",
       "\n",
       "      SaO2_mean  Albumin_mean  Cholesterol_mean  PO2_mean  \n",
       "2660        NaN           2.4               NaN       NaN  \n",
       "2661       98.0           NaN               NaN     130.0  "
      ]
     },
     "execution_count": 9,
     "metadata": {},
     "output_type": "execute_result"
    }
   ],
   "source": [
    "df_master_cleaned[removed_col_groups[0]].tail(2)"
   ]
  },
  {
   "cell_type": "code",
   "execution_count": 10,
   "metadata": {},
   "outputs": [
    {
     "data": {
      "text/html": [
       "<div>\n",
       "<style scoped>\n",
       "    .dataframe tbody tr th:only-of-type {\n",
       "        vertical-align: middle;\n",
       "    }\n",
       "\n",
       "    .dataframe tbody tr th {\n",
       "        vertical-align: top;\n",
       "    }\n",
       "\n",
       "    .dataframe thead th {\n",
       "        text-align: right;\n",
       "    }\n",
       "</style>\n",
       "<table border=\"1\" class=\"dataframe\">\n",
       "  <thead>\n",
       "    <tr style=\"text-align: right;\">\n",
       "      <th></th>\n",
       "      <th>Tidal_Volume_mean</th>\n",
       "      <th>Alkaline_Phosphatase_mean</th>\n",
       "      <th>Lactate_mean</th>\n",
       "      <th>Bilirubin</th>\n",
       "      <th>Troponin-T_mean</th>\n",
       "      <th>Hemoglobin_mean</th>\n",
       "      <th>ALT_mean</th>\n",
       "      <th>WBC_mean</th>\n",
       "      <th>Fibrinogen</th>\n",
       "    </tr>\n",
       "  </thead>\n",
       "  <tbody>\n",
       "    <tr>\n",
       "      <th>2660</th>\n",
       "      <td>NaN</td>\n",
       "      <td>414.083333</td>\n",
       "      <td>1.37619</td>\n",
       "      <td>0.9</td>\n",
       "      <td>3.237778</td>\n",
       "      <td>8.085714</td>\n",
       "      <td>88.083333</td>\n",
       "      <td>9.0</td>\n",
       "      <td>288.0</td>\n",
       "    </tr>\n",
       "    <tr>\n",
       "      <th>2661</th>\n",
       "      <td>400.0</td>\n",
       "      <td>NaN</td>\n",
       "      <td>0.80000</td>\n",
       "      <td>NaN</td>\n",
       "      <td>NaN</td>\n",
       "      <td>12.000000</td>\n",
       "      <td>NaN</td>\n",
       "      <td>NaN</td>\n",
       "      <td>NaN</td>\n",
       "    </tr>\n",
       "  </tbody>\n",
       "</table>\n",
       "</div>"
      ],
      "text/plain": [
       "      Tidal_Volume_mean  Alkaline_Phosphatase_mean  Lactate_mean  Bilirubin  \\\n",
       "2660                NaN                 414.083333       1.37619        0.9   \n",
       "2661              400.0                        NaN       0.80000        NaN   \n",
       "\n",
       "      Troponin-T_mean  Hemoglobin_mean   ALT_mean  WBC_mean  Fibrinogen  \n",
       "2660         3.237778         8.085714  88.083333       9.0       288.0  \n",
       "2661              NaN        12.000000        NaN       NaN         NaN  "
      ]
     },
     "execution_count": 10,
     "metadata": {},
     "output_type": "execute_result"
    }
   ],
   "source": [
    "df_master_cleaned[removed_col_groups[3]].tail(2)"
   ]
  },
  {
   "cell_type": "markdown",
   "metadata": {},
   "source": [
    "Heart Score, PERC Score, Canadian C-Spine/Head Injuries: Regressions used in clinic to rule out certain diseases"
   ]
  },
  {
   "cell_type": "markdown",
   "metadata": {},
   "source": [
    "WELLS Criteria, Ottawa Ankle, PERC: useful to know whether or not I need to get imaging "
   ]
  },
  {
   "cell_type": "markdown",
   "metadata": {},
   "source": [
    "Lactate - Pneumonia\n",
    "Tidal - Lung pathologies\n",
    "Troponin-T - Heart Attacks Acute setting (1 week) trop up — can lead to early findings of higher heart attacks chances \n",
    "WBC - infections"
   ]
  },
  {
   "cell_type": "markdown",
   "metadata": {},
   "source": [
    "## Prep data for Cardiomegaly"
   ]
  },
  {
   "cell_type": "code",
   "execution_count": 11,
   "metadata": {},
   "outputs": [],
   "source": [
    "del df\n",
    "label = 'Cardiomegaly'"
   ]
  },
  {
   "cell_type": "code",
   "execution_count": 12,
   "metadata": {},
   "outputs": [
    {
     "data": {
      "text/plain": [
       "'Number of Total Test Samples: 537'"
      ]
     },
     "execution_count": 12,
     "metadata": {},
     "output_type": "execute_result"
    }
   ],
   "source": [
    "df_train = pd.read_csv('/home/ays124/mimic/cardiomegaly/cross-val/densenet-xray-age_chloride_rr_urea_nitrogren_magnesium_glucose_phosphate_hematocrit-idp/train.csv')\n",
    "df_val = pd.read_csv('/home/ays124/mimic/cardiomegaly/cross-val/densenet-xray-age_chloride_rr_urea_nitrogren_magnesium_glucose_phosphate_hematocrit-idp/val.csv')\n",
    "df_test = pd.read_csv('/home/ays124/mimic/cardiomegaly/cross-val/densenet-xray-age_chloride_rr_urea_nitrogren_magnesium_glucose_phosphate_hematocrit-idp/test.csv')\n",
    "f'Number of Total Train Samples: {len(df_train)}'\n",
    "f'Number of Total Val Samples: {len(df_val)}'\n",
    "f'Number of Total Test Samples: {len(df_test)}'"
   ]
  },
  {
   "cell_type": "code",
   "execution_count": 13,
   "metadata": {},
   "outputs": [],
   "source": [
    "for df in [df_train, df_val, df_test]:\n",
    "    df['age_label'] = df['anchor_age'].apply(lambda x: min(x / 100, 1))\n",
    "    df = standardize_mimic_ethnicity(df)\n",
    "    df['race_label'] = df['ethnicity']\n",
    "    df.loc[df['race_label'] == 'White', 'race_label'] = 0\n",
    "    df.loc[df['race_label'] == 'Asian', 'race_label'] = 1\n",
    "    df.loc[df['race_label'] == 'Black', 'race_label'] = 2\n",
    "    df.loc[df['race_label'] == 'Hispanic/Latino', 'race_label'] = 3\n",
    "    df.loc[df['race_label'] == 'Other', 'race_label'] = 4\n",
    "\n",
    "    df['sex_label'] = df['gender']\n",
    "    df.loc[df['sex_label'] == 'M', 'sex_label'] = 0\n",
    "    df.loc[df['sex_label'] == 'F', 'sex_label'] = 1"
   ]
  },
  {
   "cell_type": "code",
   "execution_count": 14,
   "metadata": {},
   "outputs": [],
   "source": [
    "demographic_cols = ['age_label', 'race_label', 'sex_label']"
   ]
  },
  {
   "cell_type": "code",
   "execution_count": 15,
   "metadata": {},
   "outputs": [],
   "source": [
    "X_train = df_train[demographic_cols + select_col_groups[0] + select_col_groups[3]]\n",
    "Y_train = df_train[[label]]\n",
    "X_val   = df_val[demographic_cols + select_col_groups[0] + select_col_groups[3]]\n",
    "Y_val   = df_val[[label]]\n",
    "X_test  = df_test[demographic_cols + select_col_groups[0] + select_col_groups[3]]\n",
    "Y_test  = df_test[[label]]"
   ]
  },
  {
   "cell_type": "code",
   "execution_count": 16,
   "metadata": {},
   "outputs": [],
   "source": [
    "# 2. Mean Imputation for NaNs in X_train\n",
    "imputer = SimpleImputer(strategy='mean')\n",
    "X_train_imputed = pd.DataFrame(imputer.fit_transform(X_train), columns=X_train.columns)\n",
    "X_test_imputed = pd.DataFrame(imputer.transform(X_test), columns=X_test.columns)\n",
    "\n",
    "# 3. One-Hot Encoding for 'race_label'\n",
    "X_train_encoded = pd.get_dummies(X_train_imputed, columns=['race_label'], drop_first=True, dtype=float)\n",
    "X_test_encoded = pd.get_dummies(X_test_imputed, columns=['race_label'], drop_first=True, dtype=float)\n",
    "\n",
    "# Ensure that the train and test sets have the same columns after encoding\n",
    "X_test_encoded = X_test_encoded.reindex(columns=X_train_encoded.columns, fill_value=0)\n",
    "\n",
    "X_train_encoded = sm.add_constant(X_train_encoded)  # Add intercept term\n",
    "X_test_encoded = sm.add_constant(X_test_encoded)\n",
    "\n",
    "X_train_encoded = X_train_encoded.reset_index(drop=True)\n",
    "X_test_encoded = X_test_encoded.reset_index(drop=True)\n",
    "Y_train = Y_train.reset_index(drop=True)\n",
    "Y_test = Y_test.reset_index(drop=True)"
   ]
  },
  {
   "cell_type": "code",
   "execution_count": 17,
   "metadata": {},
   "outputs": [],
   "source": [
    "filtered_mean_columns = select_col_groups[0] + select_col_groups[3]"
   ]
  },
  {
   "cell_type": "code",
   "execution_count": 18,
   "metadata": {},
   "outputs": [
    {
     "data": {
      "text/plain": [
       "['Temp(F)_mean',\n",
       " 'Sodium_mean',\n",
       " 'PlateletCount_mean',\n",
       " 'HR_mean',\n",
       " 'NBPm_mean',\n",
       " 'NBPs_mean',\n",
       " 'RR_mean',\n",
       " 'SpO2_mean',\n",
       " 'NBPd_mean',\n",
       " 'Glucose_mean',\n",
       " 'Creatinine_mean',\n",
       " 'Chloride_mean',\n",
       " 'Magnesium_mean',\n",
       " 'PTT_mean',\n",
       " 'Calcium_Total_mean',\n",
       " 'Phosphate_mean',\n",
       " 'Urea_Nitrogren_mean',\n",
       " 'Hematocrit_mean',\n",
       " 'Potassium_mean']"
      ]
     },
     "execution_count": 18,
     "metadata": {},
     "output_type": "execute_result"
    }
   ],
   "source": [
    "filtered_mean_columns"
   ]
  },
  {
   "cell_type": "code",
   "execution_count": 19,
   "metadata": {},
   "outputs": [
    {
     "data": {
      "text/plain": [
       "19"
      ]
     },
     "execution_count": 19,
     "metadata": {},
     "output_type": "execute_result"
    }
   ],
   "source": [
    "len(filtered_mean_columns)"
   ]
  },
  {
   "cell_type": "markdown",
   "metadata": {},
   "source": [
    "## Logistic Regression"
   ]
  },
  {
   "cell_type": "code",
   "execution_count": 20,
   "metadata": {},
   "outputs": [
    {
     "name": "stdout",
     "output_type": "stream",
     "text": [
      "Optimization terminated successfully.\n",
      "         Current function value: 0.557245\n",
      "         Iterations 10\n"
     ]
    }
   ],
   "source": [
    "# 4. Logistic Regression using Statsmodels\n",
    "logit_model = sm.Logit(Y_train, X_train_encoded)\n",
    "result = logit_model.fit()"
   ]
  },
  {
   "cell_type": "code",
   "execution_count": 21,
   "metadata": {},
   "outputs": [
    {
     "data": {
      "text/html": [
       "<table class=\"simpletable\">\n",
       "<tr>\n",
       "        <td>Model:</td>              <td>Logit</td>           <td>Method:</td>          <td>MLE</td>   \n",
       "</tr>\n",
       "<tr>\n",
       "  <td>Dependent Variable:</td>   <td>Cardiomegaly</td>   <td>Pseudo R-squared:</td>    <td>0.091</td>  \n",
       "</tr>\n",
       "<tr>\n",
       "         <td>Date:</td>        <td>2024-09-07 22:05</td>       <td>AIC:</td>         <td>2112.6929</td>\n",
       "</tr>\n",
       "<tr>\n",
       "   <td>No. Observations:</td>        <td>1849</td>             <td>BIC:</td>         <td>2256.2753</td>\n",
       "</tr>\n",
       "<tr>\n",
       "       <td>Df Model:</td>             <td>25</td>         <td>Log-Likelihood:</td>    <td>-1030.3</td> \n",
       "</tr>\n",
       "<tr>\n",
       "     <td>Df Residuals:</td>          <td>1823</td>           <td>LL-Null:</td>        <td>-1133.9</td> \n",
       "</tr>\n",
       "<tr>\n",
       "      <td>Converged:</td>           <td>1.0000</td>        <td>LLR p-value:</td>    <td>1.2574e-30</td>\n",
       "</tr>\n",
       "<tr>\n",
       "    <td>No. Iterations:</td>        <td>10.0000</td>          <td>Scale:</td>         <td>1.0000</td>  \n",
       "</tr>\n",
       "</table>\n",
       "<table class=\"simpletable\">\n",
       "<tr>\n",
       "           <td></td>            <th>Coef.</th>  <th>Std.Err.</th>    <th>z</th>     <th>P>|z|</th>  <th>[0.025</th>  <th>0.975]</th> \n",
       "</tr>\n",
       "<tr>\n",
       "  <th>const</th>               <td>-2.9762</td>  <td>8.9330</td>  <td>-0.3332</td> <td>0.7390</td> <td>-20.4845</td> <td>14.5322</td>\n",
       "</tr>\n",
       "<tr>\n",
       "  <th>age_label</th>           <td>2.3335</td>   <td>0.4042</td>  <td>5.7737</td>  <td>0.0000</td>  <td>1.5414</td>  <td>3.1257</td> \n",
       "</tr>\n",
       "<tr>\n",
       "  <th>sex_label</th>           <td>0.1096</td>   <td>0.1141</td>  <td>0.9601</td>  <td>0.3370</td>  <td>-0.1141</td> <td>0.3332</td> \n",
       "</tr>\n",
       "<tr>\n",
       "  <th>Temp(F)_mean</th>        <td>-0.0144</td>  <td>0.0857</td>  <td>-0.1681</td> <td>0.8665</td>  <td>-0.1824</td> <td>0.1536</td> \n",
       "</tr>\n",
       "<tr>\n",
       "  <th>Sodium_mean</th>         <td>0.0001</td>   <td>0.0002</td>  <td>0.4169</td>  <td>0.6768</td>  <td>-0.0003</td> <td>0.0004</td> \n",
       "</tr>\n",
       "<tr>\n",
       "  <th>PlateletCount_mean</th>  <td>-0.0000</td>  <td>0.0000</td>  <td>-0.2017</td> <td>0.8401</td>  <td>-0.0000</td> <td>0.0000</td> \n",
       "</tr>\n",
       "<tr>\n",
       "  <th>HR_mean</th>             <td>-0.0163</td>  <td>0.0044</td>  <td>-3.7068</td> <td>0.0002</td>  <td>-0.0249</td> <td>-0.0077</td>\n",
       "</tr>\n",
       "<tr>\n",
       "  <th>NBPm_mean</th>           <td>0.0056</td>   <td>0.0095</td>  <td>0.5918</td>  <td>0.5540</td>  <td>-0.0130</td> <td>0.0242</td> \n",
       "</tr>\n",
       "<tr>\n",
       "  <th>NBPs_mean</th>           <td>-0.0097</td>  <td>0.0051</td>  <td>-1.8993</td> <td>0.0575</td>  <td>-0.0197</td> <td>0.0003</td> \n",
       "</tr>\n",
       "<tr>\n",
       "  <th>RR_mean</th>             <td>0.0380</td>   <td>0.0170</td>  <td>2.2352</td>  <td>0.0254</td>  <td>0.0047</td>  <td>0.0712</td> \n",
       "</tr>\n",
       "<tr>\n",
       "  <th>SpO2_mean</th>           <td>0.0277</td>   <td>0.0251</td>  <td>1.1021</td>  <td>0.2704</td>  <td>-0.0216</td> <td>0.0770</td> \n",
       "</tr>\n",
       "<tr>\n",
       "  <th>NBPd_mean</th>           <td>0.0037</td>   <td>0.0074</td>  <td>0.4951</td>  <td>0.6205</td>  <td>-0.0108</td> <td>0.0181</td> \n",
       "</tr>\n",
       "<tr>\n",
       "  <th>Glucose_mean</th>        <td>0.0011</td>   <td>0.0015</td>  <td>0.7254</td>  <td>0.4682</td>  <td>-0.0019</td> <td>0.0041</td> \n",
       "</tr>\n",
       "<tr>\n",
       "  <th>Creatinine_mean</th>     <td>0.0585</td>   <td>0.0619</td>  <td>0.9449</td>  <td>0.3447</td>  <td>-0.0628</td> <td>0.1798</td> \n",
       "</tr>\n",
       "<tr>\n",
       "  <th>Chloride_mean</th>       <td>-0.0199</td>  <td>0.0124</td>  <td>-1.6024</td> <td>0.1091</td>  <td>-0.0442</td> <td>0.0044</td> \n",
       "</tr>\n",
       "<tr>\n",
       "  <th>Magnesium_mean</th>      <td>0.3622</td>   <td>0.2481</td>  <td>1.4599</td>  <td>0.1443</td>  <td>-0.1241</td> <td>0.8485</td> \n",
       "</tr>\n",
       "<tr>\n",
       "  <th>PTT_mean</th>            <td>0.0062</td>   <td>0.0040</td>  <td>1.5554</td>  <td>0.1198</td>  <td>-0.0016</td> <td>0.0139</td> \n",
       "</tr>\n",
       "<tr>\n",
       "  <th>Calcium_Total_mean</th>  <td>0.2052</td>   <td>0.1071</td>  <td>1.9152</td>  <td>0.0555</td>  <td>-0.0048</td> <td>0.4152</td> \n",
       "</tr>\n",
       "<tr>\n",
       "  <th>Phosphate_mean</th>      <td>0.0873</td>   <td>0.0840</td>  <td>1.0397</td>  <td>0.2985</td>  <td>-0.0773</td> <td>0.2520</td> \n",
       "</tr>\n",
       "<tr>\n",
       "  <th>Urea_Nitrogren_mean</th> <td>0.0140</td>   <td>0.0049</td>  <td>2.8406</td>  <td>0.0045</td>  <td>0.0043</td>  <td>0.0237</td> \n",
       "</tr>\n",
       "<tr>\n",
       "  <th>Hematocrit_mean</th>     <td>0.0110</td>   <td>0.0112</td>  <td>0.9812</td>  <td>0.3265</td>  <td>-0.0110</td> <td>0.0330</td> \n",
       "</tr>\n",
       "<tr>\n",
       "  <th>Potassium_mean</th>      <td>0.0020</td>   <td>0.1492</td>  <td>0.0133</td>  <td>0.9894</td>  <td>-0.2904</td> <td>0.2944</td> \n",
       "</tr>\n",
       "<tr>\n",
       "  <th>race_label_1.0</th>      <td>-0.0045</td>  <td>0.2656</td>  <td>-0.0170</td> <td>0.9864</td>  <td>-0.5250</td> <td>0.5160</td> \n",
       "</tr>\n",
       "<tr>\n",
       "  <th>race_label_2.0</th>      <td>0.8016</td>   <td>0.1791</td>  <td>4.4766</td>  <td>0.0000</td>  <td>0.4506</td>  <td>1.1525</td> \n",
       "</tr>\n",
       "<tr>\n",
       "  <th>race_label_3.0</th>      <td>0.4970</td>   <td>0.2510</td>  <td>1.9796</td>  <td>0.0477</td>  <td>0.0049</td>  <td>0.9890</td> \n",
       "</tr>\n",
       "<tr>\n",
       "  <th>race_label_4.0</th>      <td>0.1069</td>   <td>0.2057</td>  <td>0.5196</td>  <td>0.6034</td>  <td>-0.2964</td> <td>0.5102</td> \n",
       "</tr>\n",
       "</table><br/>\n"
      ],
      "text/latex": [
       "\\begin{table}\n",
       "\\caption{Results: Logit}\n",
       "\\label{}\n",
       "\\begin{center}\n",
       "\\begin{tabular}{llll}\n",
       "\\hline\n",
       "Model:              & Logit            & Method:           & MLE         \\\\\n",
       "Dependent Variable: & Cardiomegaly     & Pseudo R-squared: & 0.091       \\\\\n",
       "Date:               & 2024-09-07 22:05 & AIC:              & 2112.6929   \\\\\n",
       "No. Observations:   & 1849             & BIC:              & 2256.2753   \\\\\n",
       "Df Model:           & 25               & Log-Likelihood:   & -1030.3     \\\\\n",
       "Df Residuals:       & 1823             & LL-Null:          & -1133.9     \\\\\n",
       "Converged:          & 1.0000           & LLR p-value:      & 1.2574e-30  \\\\\n",
       "No. Iterations:     & 10.0000          & Scale:            & 1.0000      \\\\\n",
       "\\hline\n",
       "\\end{tabular}\n",
       "\\end{center}\n",
       "\n",
       "\\begin{center}\n",
       "\\begin{tabular}{lrrrrrr}\n",
       "\\hline\n",
       "                      &   Coef. & Std.Err. &       z & P$> |$z$|$ &   [0.025 &  0.975]  \\\\\n",
       "\\hline\n",
       "const                 & -2.9762 &   8.9330 & -0.3332 &      0.7390 & -20.4845 & 14.5322  \\\\\n",
       "age\\_label            &  2.3335 &   0.4042 &  5.7737 &      0.0000 &   1.5414 &  3.1257  \\\\\n",
       "sex\\_label            &  0.1096 &   0.1141 &  0.9601 &      0.3370 &  -0.1141 &  0.3332  \\\\\n",
       "Temp(F)\\_mean         & -0.0144 &   0.0857 & -0.1681 &      0.8665 &  -0.1824 &  0.1536  \\\\\n",
       "Sodium\\_mean          &  0.0001 &   0.0002 &  0.4169 &      0.6768 &  -0.0003 &  0.0004  \\\\\n",
       "PlateletCount\\_mean   & -0.0000 &   0.0000 & -0.2017 &      0.8401 &  -0.0000 &  0.0000  \\\\\n",
       "HR\\_mean              & -0.0163 &   0.0044 & -3.7068 &      0.0002 &  -0.0249 & -0.0077  \\\\\n",
       "NBPm\\_mean            &  0.0056 &   0.0095 &  0.5918 &      0.5540 &  -0.0130 &  0.0242  \\\\\n",
       "NBPs\\_mean            & -0.0097 &   0.0051 & -1.8993 &      0.0575 &  -0.0197 &  0.0003  \\\\\n",
       "RR\\_mean              &  0.0380 &   0.0170 &  2.2352 &      0.0254 &   0.0047 &  0.0712  \\\\\n",
       "SpO2\\_mean            &  0.0277 &   0.0251 &  1.1021 &      0.2704 &  -0.0216 &  0.0770  \\\\\n",
       "NBPd\\_mean            &  0.0037 &   0.0074 &  0.4951 &      0.6205 &  -0.0108 &  0.0181  \\\\\n",
       "Glucose\\_mean         &  0.0011 &   0.0015 &  0.7254 &      0.4682 &  -0.0019 &  0.0041  \\\\\n",
       "Creatinine\\_mean      &  0.0585 &   0.0619 &  0.9449 &      0.3447 &  -0.0628 &  0.1798  \\\\\n",
       "Chloride\\_mean        & -0.0199 &   0.0124 & -1.6024 &      0.1091 &  -0.0442 &  0.0044  \\\\\n",
       "Magnesium\\_mean       &  0.3622 &   0.2481 &  1.4599 &      0.1443 &  -0.1241 &  0.8485  \\\\\n",
       "PTT\\_mean             &  0.0062 &   0.0040 &  1.5554 &      0.1198 &  -0.0016 &  0.0139  \\\\\n",
       "Calcium\\_Total\\_mean  &  0.2052 &   0.1071 &  1.9152 &      0.0555 &  -0.0048 &  0.4152  \\\\\n",
       "Phosphate\\_mean       &  0.0873 &   0.0840 &  1.0397 &      0.2985 &  -0.0773 &  0.2520  \\\\\n",
       "Urea\\_Nitrogren\\_mean &  0.0140 &   0.0049 &  2.8406 &      0.0045 &   0.0043 &  0.0237  \\\\\n",
       "Hematocrit\\_mean      &  0.0110 &   0.0112 &  0.9812 &      0.3265 &  -0.0110 &  0.0330  \\\\\n",
       "Potassium\\_mean       &  0.0020 &   0.1492 &  0.0133 &      0.9894 &  -0.2904 &  0.2944  \\\\\n",
       "race\\_label\\_1.0      & -0.0045 &   0.2656 & -0.0170 &      0.9864 &  -0.5250 &  0.5160  \\\\\n",
       "race\\_label\\_2.0      &  0.8016 &   0.1791 &  4.4766 &      0.0000 &   0.4506 &  1.1525  \\\\\n",
       "race\\_label\\_3.0      &  0.4970 &   0.2510 &  1.9796 &      0.0477 &   0.0049 &  0.9890  \\\\\n",
       "race\\_label\\_4.0      &  0.1069 &   0.2057 &  0.5196 &      0.6034 &  -0.2964 &  0.5102  \\\\\n",
       "\\hline\n",
       "\\end{tabular}\n",
       "\\end{center}\n",
       "\\end{table}\n",
       "\\bigskip\n"
      ],
      "text/plain": [
       "<class 'statsmodels.iolib.summary2.Summary'>\n",
       "\"\"\"\n",
       "                           Results: Logit\n",
       "====================================================================\n",
       "Model:               Logit             Method:            MLE       \n",
       "Dependent Variable:  Cardiomegaly      Pseudo R-squared:  0.091     \n",
       "Date:                2024-09-07 22:05  AIC:               2112.6929 \n",
       "No. Observations:    1849              BIC:               2256.2753 \n",
       "Df Model:            25                Log-Likelihood:    -1030.3   \n",
       "Df Residuals:        1823              LL-Null:           -1133.9   \n",
       "Converged:           1.0000            LLR p-value:       1.2574e-30\n",
       "No. Iterations:      10.0000           Scale:             1.0000    \n",
       "--------------------------------------------------------------------\n",
       "                     Coef.  Std.Err.    z    P>|z|   [0.025   0.975]\n",
       "--------------------------------------------------------------------\n",
       "const               -2.9762   8.9330 -0.3332 0.7390 -20.4845 14.5322\n",
       "age_label            2.3335   0.4042  5.7737 0.0000   1.5414  3.1257\n",
       "sex_label            0.1096   0.1141  0.9601 0.3370  -0.1141  0.3332\n",
       "Temp(F)_mean        -0.0144   0.0857 -0.1681 0.8665  -0.1824  0.1536\n",
       "Sodium_mean          0.0001   0.0002  0.4169 0.6768  -0.0003  0.0004\n",
       "PlateletCount_mean  -0.0000   0.0000 -0.2017 0.8401  -0.0000  0.0000\n",
       "HR_mean             -0.0163   0.0044 -3.7068 0.0002  -0.0249 -0.0077\n",
       "NBPm_mean            0.0056   0.0095  0.5918 0.5540  -0.0130  0.0242\n",
       "NBPs_mean           -0.0097   0.0051 -1.8993 0.0575  -0.0197  0.0003\n",
       "RR_mean              0.0380   0.0170  2.2352 0.0254   0.0047  0.0712\n",
       "SpO2_mean            0.0277   0.0251  1.1021 0.2704  -0.0216  0.0770\n",
       "NBPd_mean            0.0037   0.0074  0.4951 0.6205  -0.0108  0.0181\n",
       "Glucose_mean         0.0011   0.0015  0.7254 0.4682  -0.0019  0.0041\n",
       "Creatinine_mean      0.0585   0.0619  0.9449 0.3447  -0.0628  0.1798\n",
       "Chloride_mean       -0.0199   0.0124 -1.6024 0.1091  -0.0442  0.0044\n",
       "Magnesium_mean       0.3622   0.2481  1.4599 0.1443  -0.1241  0.8485\n",
       "PTT_mean             0.0062   0.0040  1.5554 0.1198  -0.0016  0.0139\n",
       "Calcium_Total_mean   0.2052   0.1071  1.9152 0.0555  -0.0048  0.4152\n",
       "Phosphate_mean       0.0873   0.0840  1.0397 0.2985  -0.0773  0.2520\n",
       "Urea_Nitrogren_mean  0.0140   0.0049  2.8406 0.0045   0.0043  0.0237\n",
       "Hematocrit_mean      0.0110   0.0112  0.9812 0.3265  -0.0110  0.0330\n",
       "Potassium_mean       0.0020   0.1492  0.0133 0.9894  -0.2904  0.2944\n",
       "race_label_1.0      -0.0045   0.2656 -0.0170 0.9864  -0.5250  0.5160\n",
       "race_label_2.0       0.8016   0.1791  4.4766 0.0000   0.4506  1.1525\n",
       "race_label_3.0       0.4970   0.2510  1.9796 0.0477   0.0049  0.9890\n",
       "race_label_4.0       0.1069   0.2057  0.5196 0.6034  -0.2964  0.5102\n",
       "====================================================================\n",
       "\n",
       "\"\"\""
      ]
     },
     "execution_count": 21,
     "metadata": {},
     "output_type": "execute_result"
    }
   ],
   "source": [
    "result.summary2()"
   ]
  },
  {
   "cell_type": "code",
   "execution_count": 22,
   "metadata": {},
   "outputs": [],
   "source": [
    "# Z-scores of the coefficients\n",
    "z_scores = pd.concat([result.summary2().tables[1]['z'], result.summary2().tables[1]['P>|z|']], axis=1)\n",
    "\n",
    "# Predictions and evaluations\n",
    "Y_test_pred_prob = result.predict(X_test_encoded)\n",
    "Y_test_pred = (Y_test_pred_prob > 0.5).astype(int)\n",
    "\n",
    "auc_score = roc_auc_score(Y_test, Y_test_pred_prob)\n",
    "f1 = f1_score(Y_test, Y_test_pred)\n",
    "conf_matrix = confusion_matrix(Y_test, Y_test_pred)"
   ]
  },
  {
   "cell_type": "code",
   "execution_count": 23,
   "metadata": {},
   "outputs": [
    {
     "name": "stdout",
     "output_type": "stream",
     "text": [
      "AUC: 0.738262599469496\n",
      "F1 Score: 0.8344988344988346\n",
      "Confusion Matrix:\n",
      "[[ 37 123]\n",
      " [ 19 358]]\n"
     ]
    }
   ],
   "source": [
    "# Outputs\n",
    "print(f'AUC: {auc_score}', f'F1 Score: {f1}', f'Confusion Matrix:\\n{conf_matrix}', sep='\\n')\n",
    "pd.set_option('display.float_format', '{:.4f}'.format)"
   ]
  },
  {
   "cell_type": "code",
   "execution_count": 24,
   "metadata": {},
   "outputs": [],
   "source": [
    "# add model predictions\n",
    "df_pred_xray = pd.read_csv(k_fold_test_pred_csv_path['xray'])\n",
    "df_pred_noise = pd.read_csv(k_fold_test_pred_csv_path['noise'])\n",
    "df_pred_blank = pd.read_csv(k_fold_test_pred_csv_path['blank'])\n",
    "Y_test['target'] = df_pred_xray['target_0'] \n",
    "Y_test['xray_prob'] = df_pred_xray['class_0']\n",
    "Y_test['noise_prob'] = df_pred_noise['class_0']\n",
    "Y_test['blank_prob'] = df_pred_blank['class_0']\n",
    "Y_test['lr_prob'] = pd.Series(Y_test_pred_prob)"
   ]
  },
  {
   "cell_type": "code",
   "execution_count": 25,
   "metadata": {},
   "outputs": [
    {
     "data": {
      "text/html": [
       "<div>\n",
       "<style scoped>\n",
       "    .dataframe tbody tr th:only-of-type {\n",
       "        vertical-align: middle;\n",
       "    }\n",
       "\n",
       "    .dataframe tbody tr th {\n",
       "        vertical-align: top;\n",
       "    }\n",
       "\n",
       "    .dataframe thead th {\n",
       "        text-align: right;\n",
       "    }\n",
       "</style>\n",
       "<table border=\"1\" class=\"dataframe\">\n",
       "  <thead>\n",
       "    <tr style=\"text-align: right;\">\n",
       "      <th></th>\n",
       "      <th>Cardiomegaly</th>\n",
       "      <th>target</th>\n",
       "      <th>xray_prob</th>\n",
       "      <th>noise_prob</th>\n",
       "      <th>blank_prob</th>\n",
       "      <th>lr_prob</th>\n",
       "    </tr>\n",
       "  </thead>\n",
       "  <tbody>\n",
       "    <tr>\n",
       "      <th>0</th>\n",
       "      <td>0</td>\n",
       "      <td>0.0000</td>\n",
       "      <td>0.9044</td>\n",
       "      <td>0.5408</td>\n",
       "      <td>0.3556</td>\n",
       "      <td>0.5766</td>\n",
       "    </tr>\n",
       "    <tr>\n",
       "      <th>1</th>\n",
       "      <td>1</td>\n",
       "      <td>1.0000</td>\n",
       "      <td>1.0000</td>\n",
       "      <td>0.9636</td>\n",
       "      <td>0.8258</td>\n",
       "      <td>0.8000</td>\n",
       "    </tr>\n",
       "    <tr>\n",
       "      <th>2</th>\n",
       "      <td>1</td>\n",
       "      <td>1.0000</td>\n",
       "      <td>0.9973</td>\n",
       "      <td>0.8662</td>\n",
       "      <td>0.8625</td>\n",
       "      <td>0.7398</td>\n",
       "    </tr>\n",
       "    <tr>\n",
       "      <th>3</th>\n",
       "      <td>1</td>\n",
       "      <td>1.0000</td>\n",
       "      <td>0.9987</td>\n",
       "      <td>0.9227</td>\n",
       "      <td>0.8623</td>\n",
       "      <td>0.5683</td>\n",
       "    </tr>\n",
       "    <tr>\n",
       "      <th>4</th>\n",
       "      <td>0</td>\n",
       "      <td>0.0000</td>\n",
       "      <td>0.1533</td>\n",
       "      <td>0.5533</td>\n",
       "      <td>0.3473</td>\n",
       "      <td>0.6183</td>\n",
       "    </tr>\n",
       "    <tr>\n",
       "      <th>...</th>\n",
       "      <td>...</td>\n",
       "      <td>...</td>\n",
       "      <td>...</td>\n",
       "      <td>...</td>\n",
       "      <td>...</td>\n",
       "      <td>...</td>\n",
       "    </tr>\n",
       "    <tr>\n",
       "      <th>532</th>\n",
       "      <td>1</td>\n",
       "      <td>1.0000</td>\n",
       "      <td>0.9686</td>\n",
       "      <td>0.5765</td>\n",
       "      <td>0.7308</td>\n",
       "      <td>0.6373</td>\n",
       "    </tr>\n",
       "    <tr>\n",
       "      <th>533</th>\n",
       "      <td>0</td>\n",
       "      <td>0.0000</td>\n",
       "      <td>0.2282</td>\n",
       "      <td>0.5633</td>\n",
       "      <td>0.7388</td>\n",
       "      <td>0.4275</td>\n",
       "    </tr>\n",
       "    <tr>\n",
       "      <th>534</th>\n",
       "      <td>1</td>\n",
       "      <td>1.0000</td>\n",
       "      <td>0.9830</td>\n",
       "      <td>0.5703</td>\n",
       "      <td>0.6527</td>\n",
       "      <td>0.4156</td>\n",
       "    </tr>\n",
       "    <tr>\n",
       "      <th>535</th>\n",
       "      <td>0</td>\n",
       "      <td>0.0000</td>\n",
       "      <td>0.1033</td>\n",
       "      <td>0.5389</td>\n",
       "      <td>0.5747</td>\n",
       "      <td>0.4049</td>\n",
       "    </tr>\n",
       "    <tr>\n",
       "      <th>536</th>\n",
       "      <td>1</td>\n",
       "      <td>1.0000</td>\n",
       "      <td>0.9984</td>\n",
       "      <td>0.9861</td>\n",
       "      <td>0.8632</td>\n",
       "      <td>0.8976</td>\n",
       "    </tr>\n",
       "  </tbody>\n",
       "</table>\n",
       "<p>537 rows × 6 columns</p>\n",
       "</div>"
      ],
      "text/plain": [
       "     Cardiomegaly  target  xray_prob  noise_prob  blank_prob  lr_prob\n",
       "0               0  0.0000     0.9044      0.5408      0.3556   0.5766\n",
       "1               1  1.0000     1.0000      0.9636      0.8258   0.8000\n",
       "2               1  1.0000     0.9973      0.8662      0.8625   0.7398\n",
       "3               1  1.0000     0.9987      0.9227      0.8623   0.5683\n",
       "4               0  0.0000     0.1533      0.5533      0.3473   0.6183\n",
       "..            ...     ...        ...         ...         ...      ...\n",
       "532             1  1.0000     0.9686      0.5765      0.7308   0.6373\n",
       "533             0  0.0000     0.2282      0.5633      0.7388   0.4275\n",
       "534             1  1.0000     0.9830      0.5703      0.6527   0.4156\n",
       "535             0  0.0000     0.1033      0.5389      0.5747   0.4049\n",
       "536             1  1.0000     0.9984      0.9861      0.8632   0.8976\n",
       "\n",
       "[537 rows x 6 columns]"
      ]
     },
     "execution_count": 25,
     "metadata": {},
     "output_type": "execute_result"
    }
   ],
   "source": [
    "Y_test"
   ]
  }
 ],
 "metadata": {
  "kernelspec": {
   "display_name": "venv",
   "language": "python",
   "name": "python3"
  },
  "language_info": {
   "codemirror_mode": {
    "name": "ipython",
    "version": 3
   },
   "file_extension": ".py",
   "mimetype": "text/x-python",
   "name": "python",
   "nbconvert_exporter": "python",
   "pygments_lexer": "ipython3",
   "version": "3.10.11"
  }
 },
 "nbformat": 4,
 "nbformat_minor": 2
}
