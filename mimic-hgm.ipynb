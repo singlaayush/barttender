{
 "cells": [
  {
   "cell_type": "markdown",
   "metadata": {},
   "source": [
    "## Imports"
   ]
  },
  {
   "cell_type": "code",
   "execution_count": 11,
   "metadata": {},
   "outputs": [
    {
     "name": "stdout",
     "output_type": "stream",
     "text": [
      "The autoreload extension is already loaded. To reload it, use:\n",
      "  %reload_ext autoreload\n"
     ]
    }
   ],
   "source": [
    "# autoreload import module on change (does not work with from x import y)\n",
    "%load_ext autoreload\n",
    "%autoreload 2"
   ]
  },
  {
   "cell_type": "code",
   "execution_count": 12,
   "metadata": {},
   "outputs": [],
   "source": [
    "# Import functions\n",
    "import pandas as pd\n",
    "import numpy as np\n",
    "from pathlib import Path\n",
    "from mimic_constants import *\n",
    "from sklearn.ensemble import HistGradientBoostingClassifier"
   ]
  },
  {
   "cell_type": "code",
   "execution_count": 39,
   "metadata": {},
   "outputs": [],
   "source": [
    "from sklearn.model_selection import train_test_split\n",
    "from sklearn.impute import SimpleImputer\n",
    "from sklearn.preprocessing import StandardScaler\n",
    "import statsmodels.api as sm\n",
    "from sklearn.metrics import roc_auc_score, f1_score, confusion_matrix"
   ]
  },
  {
   "cell_type": "code",
   "execution_count": 13,
   "metadata": {},
   "outputs": [],
   "source": [
    "# Import cleaned master dataframe\n",
    "df_master_cleaned = get_master_df()"
   ]
  },
  {
   "cell_type": "markdown",
   "metadata": {},
   "source": [
    "## Removing columns with too many NaNs"
   ]
  },
  {
   "cell_type": "code",
   "execution_count": 14,
   "metadata": {},
   "outputs": [],
   "source": [
    "df = df_master_cleaned\n",
    "select_col_groups = []\n",
    "removed_col_groups = []\n",
    "og_col_groups = [chart_labels_mean_cols, chart_labels_max_cols, chart_labels_min_cols, lab_labels_mean_cols, lab_labels_max_cols, lab_labels_min_cols]\n",
    "for col_group in og_col_groups:\n",
    "    nan_counts = df_master_cleaned[col_group].isna().sum()\n",
    "    too_many_nans = nan_counts[nan_counts > 1000].index.tolist()\n",
    "    df = df.drop(too_many_nans, axis=1)\n",
    "    col_group = list(set(col_group) - set(too_many_nans))\n",
    "    select_col_groups.append(col_group)\n",
    "    removed_col_groups.append(too_many_nans)"
   ]
  },
  {
   "cell_type": "code",
   "execution_count": 15,
   "metadata": {},
   "outputs": [
    {
     "data": {
      "text/html": [
       "<div>\n",
       "<style scoped>\n",
       "    .dataframe tbody tr th:only-of-type {\n",
       "        vertical-align: middle;\n",
       "    }\n",
       "\n",
       "    .dataframe tbody tr th {\n",
       "        vertical-align: top;\n",
       "    }\n",
       "\n",
       "    .dataframe thead th {\n",
       "        text-align: right;\n",
       "    }\n",
       "</style>\n",
       "<table border=\"1\" class=\"dataframe\">\n",
       "  <thead>\n",
       "    <tr style=\"text-align: right;\">\n",
       "      <th></th>\n",
       "      <th>Sodium_mean</th>\n",
       "      <th>NBPm_mean</th>\n",
       "      <th>SpO2_mean</th>\n",
       "      <th>Temp(F)_mean</th>\n",
       "      <th>NBPs_mean</th>\n",
       "      <th>RR_mean</th>\n",
       "      <th>HR_mean</th>\n",
       "      <th>NBPd_mean</th>\n",
       "      <th>PlateletCount_mean</th>\n",
       "    </tr>\n",
       "  </thead>\n",
       "  <tbody>\n",
       "    <tr>\n",
       "      <th>0</th>\n",
       "      <td>132.0</td>\n",
       "      <td>62.300000</td>\n",
       "      <td>96.300000</td>\n",
       "      <td>98.966667</td>\n",
       "      <td>88.900000</td>\n",
       "      <td>20.700000</td>\n",
       "      <td>96.500000</td>\n",
       "      <td>54.100000</td>\n",
       "      <td>NaN</td>\n",
       "    </tr>\n",
       "    <tr>\n",
       "      <th>1</th>\n",
       "      <td>NaN</td>\n",
       "      <td>97.545455</td>\n",
       "      <td>98.909091</td>\n",
       "      <td>98.133333</td>\n",
       "      <td>142.454545</td>\n",
       "      <td>20.545455</td>\n",
       "      <td>73.636364</td>\n",
       "      <td>83.272727</td>\n",
       "      <td>NaN</td>\n",
       "    </tr>\n",
       "  </tbody>\n",
       "</table>\n",
       "</div>"
      ],
      "text/plain": [
       "   Sodium_mean  NBPm_mean  SpO2_mean  Temp(F)_mean   NBPs_mean    RR_mean  \\\n",
       "0        132.0  62.300000  96.300000     98.966667   88.900000  20.700000   \n",
       "1          NaN  97.545455  98.909091     98.133333  142.454545  20.545455   \n",
       "\n",
       "     HR_mean  NBPd_mean  PlateletCount_mean  \n",
       "0  96.500000  54.100000                 NaN  \n",
       "1  73.636364  83.272727                 NaN  "
      ]
     },
     "execution_count": 15,
     "metadata": {},
     "output_type": "execute_result"
    }
   ],
   "source": [
    "df[select_col_groups[0]].head(2)"
   ]
  },
  {
   "cell_type": "code",
   "execution_count": 16,
   "metadata": {},
   "outputs": [
    {
     "data": {
      "text/html": [
       "<div>\n",
       "<style scoped>\n",
       "    .dataframe tbody tr th:only-of-type {\n",
       "        vertical-align: middle;\n",
       "    }\n",
       "\n",
       "    .dataframe tbody tr th {\n",
       "        vertical-align: top;\n",
       "    }\n",
       "\n",
       "    .dataframe thead th {\n",
       "        text-align: right;\n",
       "    }\n",
       "</style>\n",
       "<table border=\"1\" class=\"dataframe\">\n",
       "  <thead>\n",
       "    <tr style=\"text-align: right;\">\n",
       "      <th></th>\n",
       "      <th>Creatinine_mean</th>\n",
       "      <th>Hematocrit_mean</th>\n",
       "      <th>Magnesium_mean</th>\n",
       "      <th>Chloride_mean</th>\n",
       "      <th>Urea_Nitrogren_mean</th>\n",
       "      <th>Calcium_Total_mean</th>\n",
       "      <th>Potassium_mean</th>\n",
       "      <th>Phosphate_mean</th>\n",
       "      <th>Glucose_mean</th>\n",
       "    </tr>\n",
       "  </thead>\n",
       "  <tbody>\n",
       "    <tr>\n",
       "      <th>0</th>\n",
       "      <td>0.433333</td>\n",
       "      <td>33.450000</td>\n",
       "      <td>2.133333</td>\n",
       "      <td>100.333333</td>\n",
       "      <td>32.000000</td>\n",
       "      <td>9.033333</td>\n",
       "      <td>4.966667</td>\n",
       "      <td>2.333333</td>\n",
       "      <td>114.333333</td>\n",
       "    </tr>\n",
       "    <tr>\n",
       "      <th>1</th>\n",
       "      <td>2.071429</td>\n",
       "      <td>26.783333</td>\n",
       "      <td>2.250000</td>\n",
       "      <td>106.000000</td>\n",
       "      <td>45.285714</td>\n",
       "      <td>9.300000</td>\n",
       "      <td>4.314286</td>\n",
       "      <td>4.783333</td>\n",
       "      <td>139.285714</td>\n",
       "    </tr>\n",
       "  </tbody>\n",
       "</table>\n",
       "</div>"
      ],
      "text/plain": [
       "   Creatinine_mean  Hematocrit_mean  Magnesium_mean  Chloride_mean  \\\n",
       "0         0.433333        33.450000        2.133333     100.333333   \n",
       "1         2.071429        26.783333        2.250000     106.000000   \n",
       "\n",
       "   Urea_Nitrogren_mean  Calcium_Total_mean  Potassium_mean  Phosphate_mean  \\\n",
       "0            32.000000            9.033333        4.966667        2.333333   \n",
       "1            45.285714            9.300000        4.314286        4.783333   \n",
       "\n",
       "   Glucose_mean  \n",
       "0    114.333333  \n",
       "1    139.285714  "
      ]
     },
     "execution_count": 16,
     "metadata": {},
     "output_type": "execute_result"
    }
   ],
   "source": [
    "df[select_col_groups[3]].head(2)"
   ]
  },
  {
   "cell_type": "code",
   "execution_count": 17,
   "metadata": {},
   "outputs": [
    {
     "data": {
      "text/plain": [
       "(5029, 68)"
      ]
     },
     "execution_count": 17,
     "metadata": {},
     "output_type": "execute_result"
    }
   ],
   "source": [
    "df.dropna().shape"
   ]
  },
  {
   "cell_type": "code",
   "execution_count": 18,
   "metadata": {},
   "outputs": [
    {
     "data": {
      "text/plain": [
       "HR_mean                  6\n",
       "NBPs_mean              223\n",
       "NBPd_mean              225\n",
       "NBPm_mean              211\n",
       "RR_mean                 11\n",
       "SpO2_mean               36\n",
       "Sodium_mean            722\n",
       "Temp(F)_mean           329\n",
       "PlateletCount_mean     865\n",
       "HR_max                   6\n",
       "NBPs_max               223\n",
       "NBPd_max               225\n",
       "NBPm_max               211\n",
       "RR_max                  11\n",
       "Sodium_max             722\n",
       "HR_min                   6\n",
       "NBPs_min               223\n",
       "NBPd_min               225\n",
       "NBPm_min               211\n",
       "RR_min                  11\n",
       "SpO2_min                36\n",
       "Sodium_min             722\n",
       "Calcium_Total_mean     360\n",
       "Chloride_mean          208\n",
       "Creatinine_mean        205\n",
       "Glucose_mean           213\n",
       "Magnesium_mean         260\n",
       "Phosphate_mean         354\n",
       "Potassium_mean         207\n",
       "Urea_Nitrogren_mean    209\n",
       "Hematocrit_mean        226\n",
       "Potassium_max          207\n",
       "Potassium_min          207\n",
       "dtype: int64"
      ]
     },
     "execution_count": 18,
     "metadata": {},
     "output_type": "execute_result"
    }
   ],
   "source": [
    "df.isna().sum()[(df.isna().sum() > 0) & (df.isna().sum() < 1000)]"
   ]
  },
  {
   "cell_type": "code",
   "execution_count": 19,
   "metadata": {},
   "outputs": [
    {
     "data": {
      "text/html": [
       "<div>\n",
       "<style scoped>\n",
       "    .dataframe tbody tr th:only-of-type {\n",
       "        vertical-align: middle;\n",
       "    }\n",
       "\n",
       "    .dataframe tbody tr th {\n",
       "        vertical-align: top;\n",
       "    }\n",
       "\n",
       "    .dataframe thead th {\n",
       "        text-align: right;\n",
       "    }\n",
       "</style>\n",
       "<table border=\"1\" class=\"dataframe\">\n",
       "  <thead>\n",
       "    <tr style=\"text-align: right;\">\n",
       "      <th></th>\n",
       "      <th>ABPm_mean</th>\n",
       "      <th>ABPd_mean</th>\n",
       "      <th>ABPs_mean</th>\n",
       "      <th>FiO2_mean</th>\n",
       "      <th>PH_mean</th>\n",
       "      <th>PCO2_mean</th>\n",
       "      <th>SaO2_mean</th>\n",
       "      <th>Albumin_mean</th>\n",
       "      <th>Cholesterol_mean</th>\n",
       "      <th>PO2_mean</th>\n",
       "    </tr>\n",
       "  </thead>\n",
       "  <tbody>\n",
       "    <tr>\n",
       "      <th>22980</th>\n",
       "      <td>95.810811</td>\n",
       "      <td>82.805556</td>\n",
       "      <td>127.472222</td>\n",
       "      <td>42.0</td>\n",
       "      <td>NaN</td>\n",
       "      <td>34.25</td>\n",
       "      <td>NaN</td>\n",
       "      <td>3.9</td>\n",
       "      <td>NaN</td>\n",
       "      <td>167.75</td>\n",
       "    </tr>\n",
       "    <tr>\n",
       "      <th>22981</th>\n",
       "      <td>NaN</td>\n",
       "      <td>NaN</td>\n",
       "      <td>NaN</td>\n",
       "      <td>39.9</td>\n",
       "      <td>NaN</td>\n",
       "      <td>40.00</td>\n",
       "      <td>NaN</td>\n",
       "      <td>NaN</td>\n",
       "      <td>166.0</td>\n",
       "      <td>91.50</td>\n",
       "    </tr>\n",
       "  </tbody>\n",
       "</table>\n",
       "</div>"
      ],
      "text/plain": [
       "       ABPm_mean  ABPd_mean   ABPs_mean  FiO2_mean  PH_mean  PCO2_mean  \\\n",
       "22980  95.810811  82.805556  127.472222       42.0      NaN      34.25   \n",
       "22981        NaN        NaN         NaN       39.9      NaN      40.00   \n",
       "\n",
       "       SaO2_mean  Albumin_mean  Cholesterol_mean  PO2_mean  \n",
       "22980        NaN           3.9               NaN    167.75  \n",
       "22981        NaN           NaN             166.0     91.50  "
      ]
     },
     "execution_count": 19,
     "metadata": {},
     "output_type": "execute_result"
    }
   ],
   "source": [
    "df_master_cleaned[removed_col_groups[0]].tail(2)"
   ]
  },
  {
   "cell_type": "code",
   "execution_count": 20,
   "metadata": {},
   "outputs": [
    {
     "data": {
      "text/html": [
       "<div>\n",
       "<style scoped>\n",
       "    .dataframe tbody tr th:only-of-type {\n",
       "        vertical-align: middle;\n",
       "    }\n",
       "\n",
       "    .dataframe tbody tr th {\n",
       "        vertical-align: top;\n",
       "    }\n",
       "\n",
       "    .dataframe thead th {\n",
       "        text-align: right;\n",
       "    }\n",
       "</style>\n",
       "<table border=\"1\" class=\"dataframe\">\n",
       "  <thead>\n",
       "    <tr style=\"text-align: right;\">\n",
       "      <th></th>\n",
       "      <th>Tidal_Volume_mean</th>\n",
       "      <th>Alkaline_Phosphatase_mean</th>\n",
       "      <th>Lactate_mean</th>\n",
       "      <th>Bilirubin</th>\n",
       "      <th>Troponin-T_mean</th>\n",
       "      <th>Hemoglobin_mean</th>\n",
       "      <th>ALT_mean</th>\n",
       "      <th>PTT_mean</th>\n",
       "      <th>WBC_mean</th>\n",
       "      <th>Fibrinogen</th>\n",
       "    </tr>\n",
       "  </thead>\n",
       "  <tbody>\n",
       "    <tr>\n",
       "      <th>22980</th>\n",
       "      <td>NaN</td>\n",
       "      <td>50.00</td>\n",
       "      <td>2.266667</td>\n",
       "      <td>0.500000</td>\n",
       "      <td>NaN</td>\n",
       "      <td>NaN</td>\n",
       "      <td>37.666667</td>\n",
       "      <td>26.14</td>\n",
       "      <td>58.0</td>\n",
       "      <td>NaN</td>\n",
       "    </tr>\n",
       "    <tr>\n",
       "      <th>22981</th>\n",
       "      <td>400.0</td>\n",
       "      <td>93.75</td>\n",
       "      <td>NaN</td>\n",
       "      <td>1.466667</td>\n",
       "      <td>1.256667</td>\n",
       "      <td>NaN</td>\n",
       "      <td>59.000000</td>\n",
       "      <td>32.70</td>\n",
       "      <td>136.0</td>\n",
       "      <td>NaN</td>\n",
       "    </tr>\n",
       "  </tbody>\n",
       "</table>\n",
       "</div>"
      ],
      "text/plain": [
       "       Tidal_Volume_mean  Alkaline_Phosphatase_mean  Lactate_mean  Bilirubin  \\\n",
       "22980                NaN                      50.00      2.266667   0.500000   \n",
       "22981              400.0                      93.75           NaN   1.466667   \n",
       "\n",
       "       Troponin-T_mean  Hemoglobin_mean   ALT_mean  PTT_mean  WBC_mean  \\\n",
       "22980              NaN              NaN  37.666667     26.14      58.0   \n",
       "22981         1.256667              NaN  59.000000     32.70     136.0   \n",
       "\n",
       "       Fibrinogen  \n",
       "22980         NaN  \n",
       "22981         NaN  "
      ]
     },
     "execution_count": 20,
     "metadata": {},
     "output_type": "execute_result"
    }
   ],
   "source": [
    "df_master_cleaned[removed_col_groups[3]].tail(2)"
   ]
  },
  {
   "cell_type": "markdown",
   "metadata": {},
   "source": [
    "Heart Score, PERC Score, Canadian C-Spine/Head Injuries: Regressions used in clinic to rule out certain diseases"
   ]
  },
  {
   "cell_type": "markdown",
   "metadata": {},
   "source": [
    "WELLS Criteria, Ottawa Ankle, PERC: useful to know whether or not I need to get imaging "
   ]
  },
  {
   "cell_type": "markdown",
   "metadata": {},
   "source": [
    "Lactate - Pneumonia\n",
    "Tidal - Lung pathologies\n",
    "Troponin-T - Heart Attacks Acute setting (1 week) trop up — can lead to early findings of higher heart attacks chances \n",
    "WBC - infections"
   ]
  },
  {
   "cell_type": "markdown",
   "metadata": {},
   "source": [
    "## Prep data for Cardiomegaly"
   ]
  },
  {
   "cell_type": "code",
   "execution_count": 83,
   "metadata": {},
   "outputs": [
    {
     "data": {
      "text/plain": [
       "'Number of Total Samples: 11423'"
      ]
     },
     "execution_count": 83,
     "metadata": {},
     "output_type": "execute_result"
    }
   ],
   "source": [
    "label = 'Cardiomegaly'\n",
    "df = df_master_cleaned[df_master_cleaned[label].isin([0, 1])]  # pick only positive and negative samples from label\n",
    "f'Number of Total Samples: {len(df)}'"
   ]
  },
  {
   "cell_type": "code",
   "execution_count": 84,
   "metadata": {},
   "outputs": [
    {
     "name": "stderr",
     "output_type": "stream",
     "text": [
      "/tmp/ipykernel_23759/3260615925.py:3: SettingWithCopyWarning: \n",
      "A value is trying to be set on a copy of a slice from a DataFrame.\n",
      "Try using .loc[row_indexer,col_indexer] = value instead\n",
      "\n",
      "See the caveats in the documentation: https://pandas.pydata.org/pandas-docs/stable/user_guide/indexing.html#returning-a-view-versus-a-copy\n",
      "  df['age'] = df['anchor_age'] + delta_years\n"
     ]
    }
   ],
   "source": [
    "study_year = np.floor(df['StudyDate'] / 10000)\n",
    "delta_years = study_year - df['anchor_year']\n",
    "df['age'] = df['anchor_age'] + delta_years"
   ]
  },
  {
   "cell_type": "code",
   "execution_count": 23,
   "metadata": {},
   "outputs": [],
   "source": [
    "# TODO FIX: introduces NaNs in age. One-hot encode the 'race_label' column\n",
    "#from sklearn.preprocessing import OneHotEncoder\n",
    "#encoder = OneHotEncoder(drop='first')\n",
    "#race_encoded = encoder.fit_transform(df[['race_label']]).toarray()\n",
    "#race_encoded_df = pd.DataFrame(race_encoded, columns=encoder.get_feature_names_out(['race_label']))\n",
    "#df = pd.concat([df, race_encoded_df], axis=1)\n",
    "#df = df.drop(columns=['race_label'])"
   ]
  },
  {
   "cell_type": "code",
   "execution_count": 85,
   "metadata": {},
   "outputs": [
    {
     "name": "stderr",
     "output_type": "stream",
     "text": [
      "/tmp/ipykernel_23759/3586539057.py:1: SettingWithCopyWarning: \n",
      "A value is trying to be set on a copy of a slice from a DataFrame.\n",
      "Try using .loc[row_indexer,col_indexer] = value instead\n",
      "\n",
      "See the caveats in the documentation: https://pandas.pydata.org/pandas-docs/stable/user_guide/indexing.html#returning-a-view-versus-a-copy\n",
      "  df['age_label'] = df['age'] / 100\n",
      "/tmp/ipykernel_23759/3586539057.py:3: SettingWithCopyWarning: \n",
      "A value is trying to be set on a copy of a slice from a DataFrame.\n",
      "Try using .loc[row_indexer,col_indexer] = value instead\n",
      "\n",
      "See the caveats in the documentation: https://pandas.pydata.org/pandas-docs/stable/user_guide/indexing.html#returning-a-view-versus-a-copy\n",
      "  df['race_label'] = df['ethnicity']\n",
      "/tmp/ipykernel_23759/3586539057.py:10: SettingWithCopyWarning: \n",
      "A value is trying to be set on a copy of a slice from a DataFrame.\n",
      "Try using .loc[row_indexer,col_indexer] = value instead\n",
      "\n",
      "See the caveats in the documentation: https://pandas.pydata.org/pandas-docs/stable/user_guide/indexing.html#returning-a-view-versus-a-copy\n",
      "  df['sex_label'] = df['gender']\n"
     ]
    }
   ],
   "source": [
    "df['age_label'] = df['age'] / 100\n",
    "\n",
    "df['race_label'] = df['ethnicity']\n",
    "df.loc[df['race_label'] == 'White', 'race_label'] = 0\n",
    "df.loc[df['race_label'] == 'Asian', 'race_label'] = 1\n",
    "df.loc[df['race_label'] == 'Black', 'race_label'] = 2\n",
    "df.loc[df['race_label'] == 'Hispanic/Latino', 'race_label'] = 3\n",
    "df.loc[df['race_label'] == 'Other', 'race_label'] = 4\n",
    "\n",
    "df['sex_label'] = df['gender']\n",
    "df.loc[df['sex_label'] == 'M', 'sex_label'] = 0\n",
    "df.loc[df['sex_label'] == 'F', 'sex_label'] = 1"
   ]
  },
  {
   "cell_type": "code",
   "execution_count": 86,
   "metadata": {},
   "outputs": [],
   "source": [
    "demographic_cols = ['age_label', 'race_label', 'sex_label']"
   ]
  },
  {
   "cell_type": "code",
   "execution_count": 91,
   "metadata": {},
   "outputs": [],
   "source": [
    "X = df[['split'] + demographic_cols + chart_labels_mean_cols + lab_labels_mean_cols]\n",
    "Y = df[['split'] + [label]]\n",
    "X_train = X[X['split'] == 'train'].drop(['split'], axis=1)\n",
    "Y_train = Y[Y['split'] == 'train'].drop(['split'], axis=1)[label].astype(float)\n",
    "X_test = X[X['split'] == 'test'].drop(['split'], axis=1)\n",
    "Y_test = Y[Y['split'] == 'test'].drop(['split'], axis=1)[label].astype(float)"
   ]
  },
  {
   "cell_type": "code",
   "execution_count": 92,
   "metadata": {},
   "outputs": [],
   "source": [
    "# 1. Adjust Train-Test Split to 90/10\n",
    "# Calculate the number of samples to move from train to test\n",
    "additional_test_samples = 916\n",
    "\n",
    "# Sampling additional samples from X_train and Y_train\n",
    "X_train_to_test, X_train = train_test_split(X_train, test_size=(11110 - additional_test_samples) / 11110, random_state=42, stratify=Y_train)\n",
    "Y_train_to_test, Y_train = train_test_split(Y_train, test_size=(11110 - additional_test_samples) / 11110, random_state=42, stratify=Y_train)\n",
    "\n",
    "# Concatenate the sampled data to the test sets\n",
    "X_test = pd.concat([X_test, X_train_to_test], axis=0)\n",
    "Y_test = pd.concat([Y_test, Y_train_to_test], axis=0)"
   ]
  },
  {
   "cell_type": "code",
   "execution_count": 93,
   "metadata": {},
   "outputs": [],
   "source": [
    "# 2. Mean Imputation for NaNs in X_train\n",
    "imputer = SimpleImputer(strategy='mean')\n",
    "X_train_imputed = pd.DataFrame(imputer.fit_transform(X_train), columns=X_train.columns)\n",
    "X_test_imputed = pd.DataFrame(imputer.transform(X_test), columns=X_test.columns)\n",
    "\n",
    "# 3. One-Hot Encoding for 'race_label'\n",
    "X_train_encoded = pd.get_dummies(X_train_imputed, columns=['race_label'], drop_first=True, dtype=float)\n",
    "X_test_encoded = pd.get_dummies(X_test_imputed, columns=['race_label'], drop_first=True, dtype=float)\n",
    "\n",
    "# Ensure that the train and test sets have the same columns after encoding\n",
    "X_test_encoded = X_test_encoded.reindex(columns=X_train_encoded.columns, fill_value=0)\n",
    "\n",
    "X_train_encoded = sm.add_constant(X_train_encoded)  # Add intercept term\n",
    "X_test_encoded = sm.add_constant(X_test_encoded)\n",
    "\n",
    "X_train_encoded = X_train_encoded.reset_index(drop=True)\n",
    "X_test_encoded = X_test_encoded.reset_index(drop=True)\n",
    "Y_train = Y_train.reset_index(drop=True)\n",
    "Y_test = Y_test.reset_index(drop=True)"
   ]
  },
  {
   "cell_type": "markdown",
   "metadata": {},
   "source": [
    "## Logistic Regression"
   ]
  },
  {
   "cell_type": "code",
   "execution_count": 94,
   "metadata": {},
   "outputs": [
    {
     "name": "stdout",
     "output_type": "stream",
     "text": [
      "Optimization terminated successfully.\n",
      "         Current function value: 0.616624\n",
      "         Iterations 12\n"
     ]
    }
   ],
   "source": [
    "# 4. Logistic Regression using Statsmodels\n",
    "logit_model = sm.Logit(Y_train, X_train_encoded)\n",
    "result = logit_model.fit()"
   ]
  },
  {
   "cell_type": "code",
   "execution_count": 97,
   "metadata": {},
   "outputs": [
    {
     "data": {
      "text/html": [
       "<table class=\"simpletable\">\n",
       "<tr>\n",
       "        <td>Model:</td>              <td>Logit</td>           <td>Method:</td>          <td>MLE</td>    \n",
       "</tr>\n",
       "<tr>\n",
       "  <td>Dependent Variable:</td>   <td>Cardiomegaly</td>   <td>Pseudo R-squared:</td>    <td>0.095</td>   \n",
       "</tr>\n",
       "<tr>\n",
       "         <td>Date:</td>        <td>2024-09-01 21:03</td>       <td>AIC:</td>        <td>12661.7308</td> \n",
       "</tr>\n",
       "<tr>\n",
       "   <td>No. Observations:</td>        <td>10194</td>            <td>BIC:</td>        <td>12987.0608</td> \n",
       "</tr>\n",
       "<tr>\n",
       "       <td>Df Model:</td>             <td>44</td>         <td>Log-Likelihood:</td>    <td>-6285.9</td>  \n",
       "</tr>\n",
       "<tr>\n",
       "     <td>Df Residuals:</td>          <td>10149</td>          <td>LL-Null:</td>        <td>-6946.7</td>  \n",
       "</tr>\n",
       "<tr>\n",
       "      <td>Converged:</td>           <td>1.0000</td>        <td>LLR p-value:</td>    <td>3.3170e-248</td>\n",
       "</tr>\n",
       "<tr>\n",
       "    <td>No. Iterations:</td>        <td>12.0000</td>          <td>Scale:</td>         <td>1.0000</td>   \n",
       "</tr>\n",
       "</table>\n",
       "<table class=\"simpletable\">\n",
       "<tr>\n",
       "              <td></td>                <th>Coef.</th>  <th>Std.Err.</th>     <th>z</th>     <th>P>|z|</th>  <th>[0.025</th>  <th>0.975]</th> \n",
       "</tr>\n",
       "<tr>\n",
       "  <th>const</th>                     <td>-10.4816</td>  <td>3.7532</td>   <td>-2.7927</td> <td>0.0052</td> <td>-17.8377</td> <td>-3.1254</td>\n",
       "</tr>\n",
       "<tr>\n",
       "  <th>age_label</th>                  <td>2.1295</td>   <td>0.1450</td>   <td>14.6871</td> <td>0.0000</td>  <td>1.8453</td>  <td>2.4137</td> \n",
       "</tr>\n",
       "<tr>\n",
       "  <th>sex_label</th>                  <td>0.1206</td>   <td>0.0454</td>   <td>2.6587</td>  <td>0.0078</td>  <td>0.0317</td>  <td>0.2095</td> \n",
       "</tr>\n",
       "<tr>\n",
       "  <th>HR_mean</th>                    <td>-0.0018</td>  <td>0.0016</td>   <td>-1.1323</td> <td>0.2575</td>  <td>-0.0050</td> <td>0.0013</td> \n",
       "</tr>\n",
       "<tr>\n",
       "  <th>SpO2_mean</th>                  <td>-0.0014</td>  <td>0.0023</td>   <td>-0.6367</td> <td>0.5243</td>  <td>-0.0058</td> <td>0.0030</td> \n",
       "</tr>\n",
       "<tr>\n",
       "  <th>Temp(F)_mean</th>               <td>0.0009</td>   <td>0.0075</td>   <td>0.1150</td>  <td>0.9084</td>  <td>-0.0138</td> <td>0.0155</td> \n",
       "</tr>\n",
       "<tr>\n",
       "  <th>RR_mean</th>                    <td>0.0714</td>   <td>0.0068</td>   <td>10.4790</td> <td>0.0000</td>  <td>0.0580</td>  <td>0.0847</td> \n",
       "</tr>\n",
       "<tr>\n",
       "  <th>ABPm_mean</th>                  <td>0.0016</td>   <td>0.0026</td>   <td>0.6175</td>  <td>0.5369</td>  <td>-0.0034</td> <td>0.0066</td> \n",
       "</tr>\n",
       "<tr>\n",
       "  <th>ABPd_mean</th>                  <td>0.0007</td>   <td>0.0023</td>   <td>0.3150</td>  <td>0.7528</td>  <td>-0.0037</td> <td>0.0051</td> \n",
       "</tr>\n",
       "<tr>\n",
       "  <th>ABPs_mean</th>                  <td>0.0047</td>   <td>0.0027</td>   <td>1.7593</td>  <td>0.0785</td>  <td>-0.0005</td> <td>0.0099</td> \n",
       "</tr>\n",
       "<tr>\n",
       "  <th>NBPd_mean</th>                  <td>0.0002</td>   <td>0.0004</td>   <td>0.5710</td>  <td>0.5680</td>  <td>-0.0006</td> <td>0.0011</td> \n",
       "</tr>\n",
       "<tr>\n",
       "  <th>NBPm_mean</th>                  <td>-0.0000</td>  <td>0.0002</td>   <td>-0.0373</td> <td>0.9703</td>  <td>-0.0003</td> <td>0.0003</td> \n",
       "</tr>\n",
       "<tr>\n",
       "  <th>NBPs_mean</th>                  <td>-0.0004</td>  <td>0.0013</td>   <td>-0.2811</td> <td>0.7786</td>  <td>-0.0030</td> <td>0.0023</td> \n",
       "</tr>\n",
       "<tr>\n",
       "  <th>FiO2_mean</th>                  <td>0.0068</td>   <td>0.0022</td>   <td>3.1191</td>  <td>0.0018</td>  <td>0.0025</td>  <td>0.0110</td> \n",
       "</tr>\n",
       "<tr>\n",
       "  <th>PH_mean</th>                    <td>1.3663</td>   <td>0.4777</td>   <td>2.8600</td>  <td>0.0042</td>  <td>0.4300</td>  <td>2.3027</td> \n",
       "</tr>\n",
       "<tr>\n",
       "  <th>PCO2_mean</th>                  <td>0.0018</td>   <td>0.0005</td>   <td>4.0321</td>  <td>0.0001</td>  <td>0.0009</td>  <td>0.0027</td> \n",
       "</tr>\n",
       "<tr>\n",
       "  <th>SaO2_mean</th>                  <td>-0.0005</td>  <td>0.0001</td>   <td>-4.8818</td> <td>0.0000</td>  <td>-0.0007</td> <td>-0.0003</td>\n",
       "</tr>\n",
       "<tr>\n",
       "  <th>PlateletCount_mean</th>         <td>0.0000</td>   <td>0.0000</td>   <td>0.3407</td>  <td>0.7333</td>  <td>-0.0000</td> <td>0.0000</td> \n",
       "</tr>\n",
       "<tr>\n",
       "  <th>Albumin_mean</th>               <td>0.0000</td>   <td>0.0000</td>   <td>0.9719</td>  <td>0.3311</td>  <td>-0.0000</td> <td>0.0000</td> \n",
       "</tr>\n",
       "<tr>\n",
       "  <th>Cholesterol_mean</th>           <td>-0.0007</td>  <td>0.0017</td>   <td>-0.4230</td> <td>0.6723</td>  <td>-0.0041</td> <td>0.0027</td> \n",
       "</tr>\n",
       "<tr>\n",
       "  <th>Sodium_mean</th>                <td>-0.0000</td>  <td>0.0000</td>   <td>-0.8840</td> <td>0.3767</td>  <td>-0.0001</td> <td>0.0000</td> \n",
       "</tr>\n",
       "<tr>\n",
       "  <th>PO2_mean</th>                   <td>-0.0018</td>  <td>0.0005</td>   <td>-4.0427</td> <td>0.0001</td>  <td>-0.0027</td> <td>-0.0010</td>\n",
       "</tr>\n",
       "<tr>\n",
       "  <th>Tidal_Volume_mean</th>          <td>0.0004</td>   <td>0.0004</td>   <td>1.0235</td>  <td>0.3061</td>  <td>-0.0004</td> <td>0.0012</td> \n",
       "</tr>\n",
       "<tr>\n",
       "  <th>Urea_Nitrogren_mean</th>        <td>0.0120</td>   <td>0.0018</td>   <td>6.5515</td>  <td>0.0000</td>  <td>0.0084</td>  <td>0.0156</td> \n",
       "</tr>\n",
       "<tr>\n",
       "  <th>Alkaline_Phosphatase_mean</th>  <td>-0.0001</td>  <td>0.0002</td>   <td>-0.2265</td> <td>0.8208</td>  <td>-0.0005</td> <td>0.0004</td> \n",
       "</tr>\n",
       "<tr>\n",
       "  <th>Calcium_Total_mean</th>         <td>0.0416</td>   <td>0.0341</td>   <td>1.2175</td>  <td>0.2234</td>  <td>-0.0253</td> <td>0.1085</td> \n",
       "</tr>\n",
       "<tr>\n",
       "  <th>Chloride_mean</th>              <td>-0.0466</td>  <td>0.0045</td>  <td>-10.4787</td> <td>0.0000</td>  <td>-0.0554</td> <td>-0.0379</td>\n",
       "</tr>\n",
       "<tr>\n",
       "  <th>Glucose_mean</th>               <td>-0.0018</td>  <td>0.0005</td>   <td>-3.2865</td> <td>0.0010</td>  <td>-0.0029</td> <td>-0.0007</td>\n",
       "</tr>\n",
       "<tr>\n",
       "  <th>Lactate_mean</th>               <td>-0.0755</td>  <td>0.0203</td>   <td>-3.7207</td> <td>0.0002</td>  <td>-0.1152</td> <td>-0.0357</td>\n",
       "</tr>\n",
       "<tr>\n",
       "  <th>Magnesium_mean</th>             <td>0.4326</td>   <td>0.1061</td>   <td>4.0776</td>  <td>0.0000</td>  <td>0.2246</td>  <td>0.6405</td> \n",
       "</tr>\n",
       "<tr>\n",
       "  <th>Phosphate_mean</th>             <td>0.1180</td>   <td>0.0342</td>   <td>3.4522</td>  <td>0.0006</td>  <td>0.0510</td>  <td>0.1849</td> \n",
       "</tr>\n",
       "<tr>\n",
       "  <th>Potassium_mean</th>             <td>0.0782</td>   <td>0.0600</td>   <td>1.3031</td>  <td>0.1925</td>  <td>-0.0394</td> <td>0.1957</td> \n",
       "</tr>\n",
       "<tr>\n",
       "  <th>Bilirubin</th>                  <td>-0.0044</td>  <td>0.0082</td>   <td>-0.5380</td> <td>0.5906</td>  <td>-0.0205</td> <td>0.0117</td> \n",
       "</tr>\n",
       "<tr>\n",
       "  <th>Troponin-T_mean</th>            <td>0.0076</td>   <td>0.0258</td>   <td>0.2957</td>  <td>0.7675</td>  <td>-0.0430</td> <td>0.0583</td> \n",
       "</tr>\n",
       "<tr>\n",
       "  <th>Hematocrit_mean</th>            <td>-0.0121</td>  <td>0.0044</td>   <td>-2.7666</td> <td>0.0057</td>  <td>-0.0207</td> <td>-0.0035</td>\n",
       "</tr>\n",
       "<tr>\n",
       "  <th>Hemoglobin_mean</th>            <td>-0.0042</td>  <td>0.0164</td>   <td>-0.2589</td> <td>0.7957</td>  <td>-0.0363</td> <td>0.0278</td> \n",
       "</tr>\n",
       "<tr>\n",
       "  <th>ALT_mean</th>                   <td>-0.0000</td>  <td>0.0001</td>   <td>-0.3727</td> <td>0.7093</td>  <td>-0.0002</td> <td>0.0001</td> \n",
       "</tr>\n",
       "<tr>\n",
       "  <th>Creatinine_mean</th>            <td>-0.0117</td>  <td>0.0212</td>   <td>-0.5531</td> <td>0.5802</td>  <td>-0.0532</td> <td>0.0298</td> \n",
       "</tr>\n",
       "<tr>\n",
       "  <th>PTT_mean</th>                   <td>0.0070</td>   <td>0.0015</td>   <td>4.6900</td>  <td>0.0000</td>  <td>0.0041</td>  <td>0.0099</td> \n",
       "</tr>\n",
       "<tr>\n",
       "  <th>WBC_mean</th>                   <td>0.0007</td>   <td>0.0010</td>   <td>0.6704</td>  <td>0.5026</td>  <td>-0.0013</td> <td>0.0027</td> \n",
       "</tr>\n",
       "<tr>\n",
       "  <th>Fibrinogen</th>                 <td>-0.0004</td>  <td>0.0002</td>   <td>-1.6661</td> <td>0.0957</td>  <td>-0.0009</td> <td>0.0001</td> \n",
       "</tr>\n",
       "<tr>\n",
       "  <th>race_label_1.0</th>             <td>-0.0367</td>  <td>0.1194</td>   <td>-0.3072</td> <td>0.7587</td>  <td>-0.2706</td> <td>0.1973</td> \n",
       "</tr>\n",
       "<tr>\n",
       "  <th>race_label_2.0</th>             <td>0.1558</td>   <td>0.0644</td>   <td>2.4200</td>  <td>0.0155</td>  <td>0.0296</td>  <td>0.2820</td> \n",
       "</tr>\n",
       "<tr>\n",
       "  <th>race_label_3.0</th>             <td>-0.0267</td>  <td>0.1064</td>   <td>-0.2509</td> <td>0.8019</td>  <td>-0.2352</td> <td>0.1818</td> \n",
       "</tr>\n",
       "<tr>\n",
       "  <th>race_label_4.0</th>             <td>0.0652</td>   <td>0.0706</td>   <td>0.9242</td>  <td>0.3554</td>  <td>-0.0731</td> <td>0.2036</td> \n",
       "</tr>\n",
       "</table><br/>\n"
      ],
      "text/latex": [
       "\\begin{table}\n",
       "\\caption{Results: Logit}\n",
       "\\label{}\n",
       "\\begin{center}\n",
       "\\begin{tabular}{llll}\n",
       "\\hline\n",
       "Model:              & Logit            & Method:           & MLE          \\\\\n",
       "Dependent Variable: & Cardiomegaly     & Pseudo R-squared: & 0.095        \\\\\n",
       "Date:               & 2024-09-01 21:03 & AIC:              & 12661.7308   \\\\\n",
       "No. Observations:   & 10194            & BIC:              & 12987.0608   \\\\\n",
       "Df Model:           & 44               & Log-Likelihood:   & -6285.9      \\\\\n",
       "Df Residuals:       & 10149            & LL-Null:          & -6946.7      \\\\\n",
       "Converged:          & 1.0000           & LLR p-value:      & 3.3170e-248  \\\\\n",
       "No. Iterations:     & 12.0000          & Scale:            & 1.0000       \\\\\n",
       "\\hline\n",
       "\\end{tabular}\n",
       "\\end{center}\n",
       "\n",
       "\\begin{center}\n",
       "\\begin{tabular}{lrrrrrr}\n",
       "\\hline\n",
       "                            &    Coef. & Std.Err. &        z & P$> |$z$|$ &   [0.025 &  0.975]  \\\\\n",
       "\\hline\n",
       "const                       & -10.4816 &   3.7532 &  -2.7927 &      0.0052 & -17.8377 & -3.1254  \\\\\n",
       "age\\_label                  &   2.1295 &   0.1450 &  14.6871 &      0.0000 &   1.8453 &  2.4137  \\\\\n",
       "sex\\_label                  &   0.1206 &   0.0454 &   2.6587 &      0.0078 &   0.0317 &  0.2095  \\\\\n",
       "HR\\_mean                    &  -0.0018 &   0.0016 &  -1.1323 &      0.2575 &  -0.0050 &  0.0013  \\\\\n",
       "SpO2\\_mean                  &  -0.0014 &   0.0023 &  -0.6367 &      0.5243 &  -0.0058 &  0.0030  \\\\\n",
       "Temp(F)\\_mean               &   0.0009 &   0.0075 &   0.1150 &      0.9084 &  -0.0138 &  0.0155  \\\\\n",
       "RR\\_mean                    &   0.0714 &   0.0068 &  10.4790 &      0.0000 &   0.0580 &  0.0847  \\\\\n",
       "ABPm\\_mean                  &   0.0016 &   0.0026 &   0.6175 &      0.5369 &  -0.0034 &  0.0066  \\\\\n",
       "ABPd\\_mean                  &   0.0007 &   0.0023 &   0.3150 &      0.7528 &  -0.0037 &  0.0051  \\\\\n",
       "ABPs\\_mean                  &   0.0047 &   0.0027 &   1.7593 &      0.0785 &  -0.0005 &  0.0099  \\\\\n",
       "NBPd\\_mean                  &   0.0002 &   0.0004 &   0.5710 &      0.5680 &  -0.0006 &  0.0011  \\\\\n",
       "NBPm\\_mean                  &  -0.0000 &   0.0002 &  -0.0373 &      0.9703 &  -0.0003 &  0.0003  \\\\\n",
       "NBPs\\_mean                  &  -0.0004 &   0.0013 &  -0.2811 &      0.7786 &  -0.0030 &  0.0023  \\\\\n",
       "FiO2\\_mean                  &   0.0068 &   0.0022 &   3.1191 &      0.0018 &   0.0025 &  0.0110  \\\\\n",
       "PH\\_mean                    &   1.3663 &   0.4777 &   2.8600 &      0.0042 &   0.4300 &  2.3027  \\\\\n",
       "PCO2\\_mean                  &   0.0018 &   0.0005 &   4.0321 &      0.0001 &   0.0009 &  0.0027  \\\\\n",
       "SaO2\\_mean                  &  -0.0005 &   0.0001 &  -4.8818 &      0.0000 &  -0.0007 & -0.0003  \\\\\n",
       "PlateletCount\\_mean         &   0.0000 &   0.0000 &   0.3407 &      0.7333 &  -0.0000 &  0.0000  \\\\\n",
       "Albumin\\_mean               &   0.0000 &   0.0000 &   0.9719 &      0.3311 &  -0.0000 &  0.0000  \\\\\n",
       "Cholesterol\\_mean           &  -0.0007 &   0.0017 &  -0.4230 &      0.6723 &  -0.0041 &  0.0027  \\\\\n",
       "Sodium\\_mean                &  -0.0000 &   0.0000 &  -0.8840 &      0.3767 &  -0.0001 &  0.0000  \\\\\n",
       "PO2\\_mean                   &  -0.0018 &   0.0005 &  -4.0427 &      0.0001 &  -0.0027 & -0.0010  \\\\\n",
       "Tidal\\_Volume\\_mean         &   0.0004 &   0.0004 &   1.0235 &      0.3061 &  -0.0004 &  0.0012  \\\\\n",
       "Urea\\_Nitrogren\\_mean       &   0.0120 &   0.0018 &   6.5515 &      0.0000 &   0.0084 &  0.0156  \\\\\n",
       "Alkaline\\_Phosphatase\\_mean &  -0.0001 &   0.0002 &  -0.2265 &      0.8208 &  -0.0005 &  0.0004  \\\\\n",
       "Calcium\\_Total\\_mean        &   0.0416 &   0.0341 &   1.2175 &      0.2234 &  -0.0253 &  0.1085  \\\\\n",
       "Chloride\\_mean              &  -0.0466 &   0.0045 & -10.4787 &      0.0000 &  -0.0554 & -0.0379  \\\\\n",
       "Glucose\\_mean               &  -0.0018 &   0.0005 &  -3.2865 &      0.0010 &  -0.0029 & -0.0007  \\\\\n",
       "Lactate\\_mean               &  -0.0755 &   0.0203 &  -3.7207 &      0.0002 &  -0.1152 & -0.0357  \\\\\n",
       "Magnesium\\_mean             &   0.4326 &   0.1061 &   4.0776 &      0.0000 &   0.2246 &  0.6405  \\\\\n",
       "Phosphate\\_mean             &   0.1180 &   0.0342 &   3.4522 &      0.0006 &   0.0510 &  0.1849  \\\\\n",
       "Potassium\\_mean             &   0.0782 &   0.0600 &   1.3031 &      0.1925 &  -0.0394 &  0.1957  \\\\\n",
       "Bilirubin                   &  -0.0044 &   0.0082 &  -0.5380 &      0.5906 &  -0.0205 &  0.0117  \\\\\n",
       "Troponin-T\\_mean            &   0.0076 &   0.0258 &   0.2957 &      0.7675 &  -0.0430 &  0.0583  \\\\\n",
       "Hematocrit\\_mean            &  -0.0121 &   0.0044 &  -2.7666 &      0.0057 &  -0.0207 & -0.0035  \\\\\n",
       "Hemoglobin\\_mean            &  -0.0042 &   0.0164 &  -0.2589 &      0.7957 &  -0.0363 &  0.0278  \\\\\n",
       "ALT\\_mean                   &  -0.0000 &   0.0001 &  -0.3727 &      0.7093 &  -0.0002 &  0.0001  \\\\\n",
       "Creatinine\\_mean            &  -0.0117 &   0.0212 &  -0.5531 &      0.5802 &  -0.0532 &  0.0298  \\\\\n",
       "PTT\\_mean                   &   0.0070 &   0.0015 &   4.6900 &      0.0000 &   0.0041 &  0.0099  \\\\\n",
       "WBC\\_mean                   &   0.0007 &   0.0010 &   0.6704 &      0.5026 &  -0.0013 &  0.0027  \\\\\n",
       "Fibrinogen                  &  -0.0004 &   0.0002 &  -1.6661 &      0.0957 &  -0.0009 &  0.0001  \\\\\n",
       "race\\_label\\_1.0            &  -0.0367 &   0.1194 &  -0.3072 &      0.7587 &  -0.2706 &  0.1973  \\\\\n",
       "race\\_label\\_2.0            &   0.1558 &   0.0644 &   2.4200 &      0.0155 &   0.0296 &  0.2820  \\\\\n",
       "race\\_label\\_3.0            &  -0.0267 &   0.1064 &  -0.2509 &      0.8019 &  -0.2352 &  0.1818  \\\\\n",
       "race\\_label\\_4.0            &   0.0652 &   0.0706 &   0.9242 &      0.3554 &  -0.0731 &  0.2036  \\\\\n",
       "\\hline\n",
       "\\end{tabular}\n",
       "\\end{center}\n",
       "\\end{table}\n",
       "\\bigskip\n"
      ],
      "text/plain": [
       "<class 'statsmodels.iolib.summary2.Summary'>\n",
       "\"\"\"\n",
       "                               Results: Logit\n",
       "============================================================================\n",
       "Model:                  Logit               Method:              MLE        \n",
       "Dependent Variable:     Cardiomegaly        Pseudo R-squared:    0.095      \n",
       "Date:                   2024-09-01 21:03    AIC:                 12661.7308 \n",
       "No. Observations:       10194               BIC:                 12987.0608 \n",
       "Df Model:               44                  Log-Likelihood:      -6285.9    \n",
       "Df Residuals:           10149               LL-Null:             -6946.7    \n",
       "Converged:              1.0000              LLR p-value:         3.3170e-248\n",
       "No. Iterations:         12.0000             Scale:               1.0000     \n",
       "----------------------------------------------------------------------------\n",
       "                           Coef.   Std.Err.    z     P>|z|   [0.025   0.975]\n",
       "----------------------------------------------------------------------------\n",
       "const                     -10.4816   3.7532  -2.7927 0.0052 -17.8377 -3.1254\n",
       "age_label                   2.1295   0.1450  14.6871 0.0000   1.8453  2.4137\n",
       "sex_label                   0.1206   0.0454   2.6587 0.0078   0.0317  0.2095\n",
       "HR_mean                    -0.0018   0.0016  -1.1323 0.2575  -0.0050  0.0013\n",
       "SpO2_mean                  -0.0014   0.0023  -0.6367 0.5243  -0.0058  0.0030\n",
       "Temp(F)_mean                0.0009   0.0075   0.1150 0.9084  -0.0138  0.0155\n",
       "RR_mean                     0.0714   0.0068  10.4790 0.0000   0.0580  0.0847\n",
       "ABPm_mean                   0.0016   0.0026   0.6175 0.5369  -0.0034  0.0066\n",
       "ABPd_mean                   0.0007   0.0023   0.3150 0.7528  -0.0037  0.0051\n",
       "ABPs_mean                   0.0047   0.0027   1.7593 0.0785  -0.0005  0.0099\n",
       "NBPd_mean                   0.0002   0.0004   0.5710 0.5680  -0.0006  0.0011\n",
       "NBPm_mean                  -0.0000   0.0002  -0.0373 0.9703  -0.0003  0.0003\n",
       "NBPs_mean                  -0.0004   0.0013  -0.2811 0.7786  -0.0030  0.0023\n",
       "FiO2_mean                   0.0068   0.0022   3.1191 0.0018   0.0025  0.0110\n",
       "PH_mean                     1.3663   0.4777   2.8600 0.0042   0.4300  2.3027\n",
       "PCO2_mean                   0.0018   0.0005   4.0321 0.0001   0.0009  0.0027\n",
       "SaO2_mean                  -0.0005   0.0001  -4.8818 0.0000  -0.0007 -0.0003\n",
       "PlateletCount_mean          0.0000   0.0000   0.3407 0.7333  -0.0000  0.0000\n",
       "Albumin_mean                0.0000   0.0000   0.9719 0.3311  -0.0000  0.0000\n",
       "Cholesterol_mean           -0.0007   0.0017  -0.4230 0.6723  -0.0041  0.0027\n",
       "Sodium_mean                -0.0000   0.0000  -0.8840 0.3767  -0.0001  0.0000\n",
       "PO2_mean                   -0.0018   0.0005  -4.0427 0.0001  -0.0027 -0.0010\n",
       "Tidal_Volume_mean           0.0004   0.0004   1.0235 0.3061  -0.0004  0.0012\n",
       "Urea_Nitrogren_mean         0.0120   0.0018   6.5515 0.0000   0.0084  0.0156\n",
       "Alkaline_Phosphatase_mean  -0.0001   0.0002  -0.2265 0.8208  -0.0005  0.0004\n",
       "Calcium_Total_mean          0.0416   0.0341   1.2175 0.2234  -0.0253  0.1085\n",
       "Chloride_mean              -0.0466   0.0045 -10.4787 0.0000  -0.0554 -0.0379\n",
       "Glucose_mean               -0.0018   0.0005  -3.2865 0.0010  -0.0029 -0.0007\n",
       "Lactate_mean               -0.0755   0.0203  -3.7207 0.0002  -0.1152 -0.0357\n",
       "Magnesium_mean              0.4326   0.1061   4.0776 0.0000   0.2246  0.6405\n",
       "Phosphate_mean              0.1180   0.0342   3.4522 0.0006   0.0510  0.1849\n",
       "Potassium_mean              0.0782   0.0600   1.3031 0.1925  -0.0394  0.1957\n",
       "Bilirubin                  -0.0044   0.0082  -0.5380 0.5906  -0.0205  0.0117\n",
       "Troponin-T_mean             0.0076   0.0258   0.2957 0.7675  -0.0430  0.0583\n",
       "Hematocrit_mean            -0.0121   0.0044  -2.7666 0.0057  -0.0207 -0.0035\n",
       "Hemoglobin_mean            -0.0042   0.0164  -0.2589 0.7957  -0.0363  0.0278\n",
       "ALT_mean                   -0.0000   0.0001  -0.3727 0.7093  -0.0002  0.0001\n",
       "Creatinine_mean            -0.0117   0.0212  -0.5531 0.5802  -0.0532  0.0298\n",
       "PTT_mean                    0.0070   0.0015   4.6900 0.0000   0.0041  0.0099\n",
       "WBC_mean                    0.0007   0.0010   0.6704 0.5026  -0.0013  0.0027\n",
       "Fibrinogen                 -0.0004   0.0002  -1.6661 0.0957  -0.0009  0.0001\n",
       "race_label_1.0             -0.0367   0.1194  -0.3072 0.7587  -0.2706  0.1973\n",
       "race_label_2.0              0.1558   0.0644   2.4200 0.0155   0.0296  0.2820\n",
       "race_label_3.0             -0.0267   0.1064  -0.2509 0.8019  -0.2352  0.1818\n",
       "race_label_4.0              0.0652   0.0706   0.9242 0.3554  -0.0731  0.2036\n",
       "============================================================================\n",
       "\n",
       "\"\"\""
      ]
     },
     "execution_count": 97,
     "metadata": {},
     "output_type": "execute_result"
    }
   ],
   "source": [
    "result.summary2()"
   ]
  },
  {
   "cell_type": "code",
   "execution_count": 98,
   "metadata": {},
   "outputs": [],
   "source": [
    "# Z-scores of the coefficients\n",
    "z_scores = result.summary2().tables[1]['z']\n",
    "\n",
    "# Predictions and evaluations\n",
    "Y_test_pred_prob = result.predict(X_test_encoded)\n",
    "Y_test_pred = (Y_test_pred_prob > 0.5).astype(int)\n",
    "\n",
    "auc_score = roc_auc_score(Y_test, Y_test_pred_prob)\n",
    "f1 = f1_score(Y_test, Y_test_pred)\n",
    "conf_matrix = confusion_matrix(Y_test, Y_test_pred)"
   ]
  },
  {
   "cell_type": "code",
   "execution_count": 104,
   "metadata": {},
   "outputs": [
    {
     "name": "stdout",
     "output_type": "stream",
     "text": [
      "AUC: 0.7257860447549805\n",
      "F1 Score: 0.5817782656421515\n",
      "Confusion Matrix:\n",
      "[[487 136]\n",
      " [245 265]]\n"
     ]
    },
    {
     "data": {
      "text/plain": [
       "age_label              14.687090\n",
       "RR_mean                10.479048\n",
       "Urea_Nitrogren_mean     6.551532\n",
       "PTT_mean                4.690020\n",
       "Magnesium_mean          4.077638\n",
       "PCO2_mean               4.032119\n",
       "Phosphate_mean          3.452199\n",
       "FiO2_mean               3.119107\n",
       "PH_mean                 2.859992\n",
       "sex_label               2.658730\n",
       "race_label_2.0          2.420022\n",
       "ABPs_mean               1.759333\n",
       "Potassium_mean          1.303123\n",
       "Calcium_Total_mean      1.217547\n",
       "Tidal_Volume_mean       1.023537\n",
       "Albumin_mean            0.971907\n",
       "race_label_4.0          0.924165\n",
       "WBC_mean                0.670425\n",
       "ABPm_mean               0.617488\n",
       "NBPd_mean               0.570965\n",
       "Name: z, dtype: float64"
      ]
     },
     "execution_count": 104,
     "metadata": {},
     "output_type": "execute_result"
    }
   ],
   "source": [
    "# Outputs\n",
    "print(f'AUC: {auc_score}', f'F1 Score: {f1}', f'Confusion Matrix:\\n{conf_matrix}', sep='\\n')\n",
    "z_scores.sort_values(ascending=False).head(20)"
   ]
  }
 ],
 "metadata": {
  "kernelspec": {
   "display_name": "venv",
   "language": "python",
   "name": "python3"
  },
  "language_info": {
   "codemirror_mode": {
    "name": "ipython",
    "version": 3
   },
   "file_extension": ".py",
   "mimetype": "text/x-python",
   "name": "python",
   "nbconvert_exporter": "python",
   "pygments_lexer": "ipython3",
   "version": "3.10.11"
  }
 },
 "nbformat": 4,
 "nbformat_minor": 2
}
