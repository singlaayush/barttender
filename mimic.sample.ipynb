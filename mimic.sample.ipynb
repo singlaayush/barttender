{
 "cells": [
  {
   "cell_type": "code",
   "execution_count": 1,
   "metadata": {},
   "outputs": [],
   "source": [
    "import os\n",
    "import pandas as pd\n",
    "import numpy as np\n",
    "import matplotlib.pyplot as plt\n",
    "import seaborn as sns\n",
    "from sklearn.utils import shuffle\n",
    "from tqdm import tqdm"
   ]
  },
  {
   "cell_type": "code",
   "execution_count": 2,
   "metadata": {},
   "outputs": [],
   "source": [
    "np.random.seed(42)"
   ]
  },
  {
   "cell_type": "markdown",
   "metadata": {},
   "source": [
    "# Study population"
   ]
  },
  {
   "cell_type": "code",
   "execution_count": 11,
   "metadata": {},
   "outputs": [],
   "source": [
    "data_dir = '/n/scratch/users/a/ays124/'\n",
    "feature_folder = 'CardiomegalyBiomarkers/Cardiomegaly_Classification/MIMIC_features/'"
   ]
  },
  {
   "cell_type": "code",
   "execution_count": 4,
   "metadata": {},
   "outputs": [],
   "source": [
    "metadata_df = pd.read_csv(data_dir + 'mimic-cxr-jpg/mimic-cxr-2.0.0-metadata.csv.gz')\n",
    "diagnosis_df = pd.read_csv(data_dir + 'mimic-cxr-jpg/mimic-cxr-2.0.0-chexpert.csv.gz')\n",
    "admissions_df = pd.read_csv(data_dir + 'mimiciv/hosp/admissions.csv.gz')\n",
    "patients_df = pd.read_csv(data_dir + 'mimiciv/hosp/patients.csv.gz')"
   ]
  },
  {
   "cell_type": "code",
   "execution_count": 12,
   "metadata": {},
   "outputs": [],
   "source": [
    "data_pipeline_df = pd.read_pickle(feature_folder + 'MIMIC_features.pkl')"
   ]
  },
  {
   "cell_type": "code",
   "execution_count": 16,
   "metadata": {},
   "outputs": [
    {
     "data": {
      "text/html": [
       "<div>\n",
       "<style scoped>\n",
       "    .dataframe tbody tr th:only-of-type {\n",
       "        vertical-align: middle;\n",
       "    }\n",
       "\n",
       "    .dataframe tbody tr th {\n",
       "        vertical-align: top;\n",
       "    }\n",
       "\n",
       "    .dataframe thead th {\n",
       "        text-align: right;\n",
       "    }\n",
       "</style>\n",
       "<table border=\"1\" class=\"dataframe\">\n",
       "  <thead>\n",
       "    <tr style=\"text-align: right;\">\n",
       "      <th></th>\n",
       "      <th>subject_id</th>\n",
       "      <th>study_id</th>\n",
       "      <th>Atelectasis</th>\n",
       "      <th>Cardiomegaly</th>\n",
       "      <th>Consolidation</th>\n",
       "      <th>Edema</th>\n",
       "      <th>Enlarged Cardiomediastinum</th>\n",
       "      <th>Fracture</th>\n",
       "      <th>Lung Lesion</th>\n",
       "      <th>Lung Opacity</th>\n",
       "      <th>No Finding</th>\n",
       "      <th>Pleural Effusion</th>\n",
       "      <th>Pleural Other</th>\n",
       "      <th>Pneumonia</th>\n",
       "      <th>Pneumothorax</th>\n",
       "      <th>Support Devices</th>\n",
       "    </tr>\n",
       "  </thead>\n",
       "  <tbody>\n",
       "    <tr>\n",
       "      <th>0</th>\n",
       "      <td>10000032</td>\n",
       "      <td>50414267</td>\n",
       "      <td>NaN</td>\n",
       "      <td>NaN</td>\n",
       "      <td>NaN</td>\n",
       "      <td>NaN</td>\n",
       "      <td>NaN</td>\n",
       "      <td>NaN</td>\n",
       "      <td>NaN</td>\n",
       "      <td>NaN</td>\n",
       "      <td>1.0</td>\n",
       "      <td>NaN</td>\n",
       "      <td>NaN</td>\n",
       "      <td>NaN</td>\n",
       "      <td>NaN</td>\n",
       "      <td>NaN</td>\n",
       "    </tr>\n",
       "    <tr>\n",
       "      <th>1</th>\n",
       "      <td>10000032</td>\n",
       "      <td>53189527</td>\n",
       "      <td>NaN</td>\n",
       "      <td>NaN</td>\n",
       "      <td>NaN</td>\n",
       "      <td>NaN</td>\n",
       "      <td>NaN</td>\n",
       "      <td>NaN</td>\n",
       "      <td>NaN</td>\n",
       "      <td>NaN</td>\n",
       "      <td>1.0</td>\n",
       "      <td>NaN</td>\n",
       "      <td>NaN</td>\n",
       "      <td>NaN</td>\n",
       "      <td>NaN</td>\n",
       "      <td>NaN</td>\n",
       "    </tr>\n",
       "    <tr>\n",
       "      <th>2</th>\n",
       "      <td>10000032</td>\n",
       "      <td>53911762</td>\n",
       "      <td>NaN</td>\n",
       "      <td>NaN</td>\n",
       "      <td>NaN</td>\n",
       "      <td>NaN</td>\n",
       "      <td>NaN</td>\n",
       "      <td>NaN</td>\n",
       "      <td>NaN</td>\n",
       "      <td>NaN</td>\n",
       "      <td>1.0</td>\n",
       "      <td>NaN</td>\n",
       "      <td>NaN</td>\n",
       "      <td>NaN</td>\n",
       "      <td>NaN</td>\n",
       "      <td>NaN</td>\n",
       "    </tr>\n",
       "    <tr>\n",
       "      <th>3</th>\n",
       "      <td>10000032</td>\n",
       "      <td>56699142</td>\n",
       "      <td>NaN</td>\n",
       "      <td>NaN</td>\n",
       "      <td>NaN</td>\n",
       "      <td>NaN</td>\n",
       "      <td>NaN</td>\n",
       "      <td>NaN</td>\n",
       "      <td>NaN</td>\n",
       "      <td>NaN</td>\n",
       "      <td>1.0</td>\n",
       "      <td>NaN</td>\n",
       "      <td>NaN</td>\n",
       "      <td>NaN</td>\n",
       "      <td>NaN</td>\n",
       "      <td>NaN</td>\n",
       "    </tr>\n",
       "    <tr>\n",
       "      <th>4</th>\n",
       "      <td>10000764</td>\n",
       "      <td>57375967</td>\n",
       "      <td>NaN</td>\n",
       "      <td>NaN</td>\n",
       "      <td>1.0</td>\n",
       "      <td>NaN</td>\n",
       "      <td>NaN</td>\n",
       "      <td>NaN</td>\n",
       "      <td>NaN</td>\n",
       "      <td>NaN</td>\n",
       "      <td>NaN</td>\n",
       "      <td>NaN</td>\n",
       "      <td>NaN</td>\n",
       "      <td>-1.0</td>\n",
       "      <td>NaN</td>\n",
       "      <td>NaN</td>\n",
       "    </tr>\n",
       "  </tbody>\n",
       "</table>\n",
       "</div>"
      ],
      "text/plain": [
       "   subject_id  study_id  Atelectasis  Cardiomegaly  Consolidation  Edema  \\\n",
       "0    10000032  50414267          NaN           NaN            NaN    NaN   \n",
       "1    10000032  53189527          NaN           NaN            NaN    NaN   \n",
       "2    10000032  53911762          NaN           NaN            NaN    NaN   \n",
       "3    10000032  56699142          NaN           NaN            NaN    NaN   \n",
       "4    10000764  57375967          NaN           NaN            1.0    NaN   \n",
       "\n",
       "   Enlarged Cardiomediastinum  Fracture  Lung Lesion  Lung Opacity  \\\n",
       "0                         NaN       NaN          NaN           NaN   \n",
       "1                         NaN       NaN          NaN           NaN   \n",
       "2                         NaN       NaN          NaN           NaN   \n",
       "3                         NaN       NaN          NaN           NaN   \n",
       "4                         NaN       NaN          NaN           NaN   \n",
       "\n",
       "   No Finding  Pleural Effusion  Pleural Other  Pneumonia  Pneumothorax  \\\n",
       "0         1.0               NaN            NaN        NaN           NaN   \n",
       "1         1.0               NaN            NaN        NaN           NaN   \n",
       "2         1.0               NaN            NaN        NaN           NaN   \n",
       "3         1.0               NaN            NaN        NaN           NaN   \n",
       "4         NaN               NaN            NaN       -1.0           NaN   \n",
       "\n",
       "   Support Devices  \n",
       "0              NaN  \n",
       "1              NaN  \n",
       "2              NaN  \n",
       "3              NaN  \n",
       "4              NaN  "
      ]
     },
     "execution_count": 16,
     "metadata": {},
     "output_type": "execute_result"
    }
   ],
   "source": [
    "diagnosis_df.head()"
   ]
  },
  {
   "cell_type": "code",
   "execution_count": 17,
   "metadata": {},
   "outputs": [
    {
     "name": "stdout",
     "output_type": "stream",
     "text": [
      "Number of images: 227827\n",
      "Number of patients: 65379\n"
     ]
    }
   ],
   "source": [
    "print(\"Number of images: \" + str(len(diagnosis_df)))\n",
    "print(\"Number of patients: \" + str(diagnosis_df.subject_id.nunique()))"
   ]
  },
  {
   "cell_type": "code",
   "execution_count": 5,
   "metadata": {},
   "outputs": [
    {
     "data": {
      "text/html": [
       "<div>\n",
       "<style scoped>\n",
       "    .dataframe tbody tr th:only-of-type {\n",
       "        vertical-align: middle;\n",
       "    }\n",
       "\n",
       "    .dataframe tbody tr th {\n",
       "        vertical-align: top;\n",
       "    }\n",
       "\n",
       "    .dataframe thead th {\n",
       "        text-align: right;\n",
       "    }\n",
       "</style>\n",
       "<table border=\"1\" class=\"dataframe\">\n",
       "  <thead>\n",
       "    <tr style=\"text-align: right;\">\n",
       "      <th></th>\n",
       "      <th>dicom_id</th>\n",
       "      <th>subject_id</th>\n",
       "      <th>study_id</th>\n",
       "      <th>PerformedProcedureStepDescription</th>\n",
       "      <th>ViewPosition</th>\n",
       "      <th>Rows</th>\n",
       "      <th>Columns</th>\n",
       "      <th>StudyDate</th>\n",
       "      <th>StudyTime</th>\n",
       "      <th>ProcedureCodeSequence_CodeMeaning</th>\n",
       "      <th>ViewCodeSequence_CodeMeaning</th>\n",
       "      <th>PatientOrientationCodeSequence_CodeMeaning</th>\n",
       "    </tr>\n",
       "  </thead>\n",
       "  <tbody>\n",
       "    <tr>\n",
       "      <th>0</th>\n",
       "      <td>02aa804e-bde0afdd-112c0b34-7bc16630-4e384014</td>\n",
       "      <td>10000032</td>\n",
       "      <td>50414267</td>\n",
       "      <td>CHEST (PA AND LAT)</td>\n",
       "      <td>PA</td>\n",
       "      <td>3056</td>\n",
       "      <td>2544</td>\n",
       "      <td>21800506</td>\n",
       "      <td>213014.531</td>\n",
       "      <td>CHEST (PA AND LAT)</td>\n",
       "      <td>postero-anterior</td>\n",
       "      <td>Erect</td>\n",
       "    </tr>\n",
       "    <tr>\n",
       "      <th>1</th>\n",
       "      <td>174413ec-4ec4c1f7-34ea26b7-c5f994f8-79ef1962</td>\n",
       "      <td>10000032</td>\n",
       "      <td>50414267</td>\n",
       "      <td>CHEST (PA AND LAT)</td>\n",
       "      <td>LATERAL</td>\n",
       "      <td>3056</td>\n",
       "      <td>2544</td>\n",
       "      <td>21800506</td>\n",
       "      <td>213014.531</td>\n",
       "      <td>CHEST (PA AND LAT)</td>\n",
       "      <td>lateral</td>\n",
       "      <td>Erect</td>\n",
       "    </tr>\n",
       "    <tr>\n",
       "      <th>2</th>\n",
       "      <td>2a2277a9-b0ded155-c0de8eb9-c124d10e-82c5caab</td>\n",
       "      <td>10000032</td>\n",
       "      <td>53189527</td>\n",
       "      <td>CHEST (PA AND LAT)</td>\n",
       "      <td>PA</td>\n",
       "      <td>3056</td>\n",
       "      <td>2544</td>\n",
       "      <td>21800626</td>\n",
       "      <td>165500.312</td>\n",
       "      <td>CHEST (PA AND LAT)</td>\n",
       "      <td>postero-anterior</td>\n",
       "      <td>Erect</td>\n",
       "    </tr>\n",
       "    <tr>\n",
       "      <th>3</th>\n",
       "      <td>e084de3b-be89b11e-20fe3f9f-9c8d8dfe-4cfd202c</td>\n",
       "      <td>10000032</td>\n",
       "      <td>53189527</td>\n",
       "      <td>CHEST (PA AND LAT)</td>\n",
       "      <td>LATERAL</td>\n",
       "      <td>3056</td>\n",
       "      <td>2544</td>\n",
       "      <td>21800626</td>\n",
       "      <td>165500.312</td>\n",
       "      <td>CHEST (PA AND LAT)</td>\n",
       "      <td>lateral</td>\n",
       "      <td>Erect</td>\n",
       "    </tr>\n",
       "    <tr>\n",
       "      <th>4</th>\n",
       "      <td>68b5c4b1-227d0485-9cc38c3f-7b84ab51-4b472714</td>\n",
       "      <td>10000032</td>\n",
       "      <td>53911762</td>\n",
       "      <td>CHEST (PORTABLE AP)</td>\n",
       "      <td>AP</td>\n",
       "      <td>2705</td>\n",
       "      <td>2539</td>\n",
       "      <td>21800723</td>\n",
       "      <td>80556.875</td>\n",
       "      <td>CHEST (PORTABLE AP)</td>\n",
       "      <td>antero-posterior</td>\n",
       "      <td>NaN</td>\n",
       "    </tr>\n",
       "  </tbody>\n",
       "</table>\n",
       "</div>"
      ],
      "text/plain": [
       "                                       dicom_id  subject_id  study_id  \\\n",
       "0  02aa804e-bde0afdd-112c0b34-7bc16630-4e384014    10000032  50414267   \n",
       "1  174413ec-4ec4c1f7-34ea26b7-c5f994f8-79ef1962    10000032  50414267   \n",
       "2  2a2277a9-b0ded155-c0de8eb9-c124d10e-82c5caab    10000032  53189527   \n",
       "3  e084de3b-be89b11e-20fe3f9f-9c8d8dfe-4cfd202c    10000032  53189527   \n",
       "4  68b5c4b1-227d0485-9cc38c3f-7b84ab51-4b472714    10000032  53911762   \n",
       "\n",
       "  PerformedProcedureStepDescription ViewPosition  Rows  Columns  StudyDate  \\\n",
       "0                CHEST (PA AND LAT)           PA  3056     2544   21800506   \n",
       "1                CHEST (PA AND LAT)      LATERAL  3056     2544   21800506   \n",
       "2                CHEST (PA AND LAT)           PA  3056     2544   21800626   \n",
       "3                CHEST (PA AND LAT)      LATERAL  3056     2544   21800626   \n",
       "4               CHEST (PORTABLE AP)           AP  2705     2539   21800723   \n",
       "\n",
       "    StudyTime ProcedureCodeSequence_CodeMeaning ViewCodeSequence_CodeMeaning  \\\n",
       "0  213014.531                CHEST (PA AND LAT)             postero-anterior   \n",
       "1  213014.531                CHEST (PA AND LAT)                      lateral   \n",
       "2  165500.312                CHEST (PA AND LAT)             postero-anterior   \n",
       "3  165500.312                CHEST (PA AND LAT)                      lateral   \n",
       "4   80556.875               CHEST (PORTABLE AP)             antero-posterior   \n",
       "\n",
       "  PatientOrientationCodeSequence_CodeMeaning  \n",
       "0                                      Erect  \n",
       "1                                      Erect  \n",
       "2                                      Erect  \n",
       "3                                      Erect  \n",
       "4                                        NaN  "
      ]
     },
     "execution_count": 5,
     "metadata": {},
     "output_type": "execute_result"
    }
   ],
   "source": [
    "metadata_df.head()"
   ]
  },
  {
   "cell_type": "code",
   "execution_count": 6,
   "metadata": {},
   "outputs": [
    {
     "name": "stdout",
     "output_type": "stream",
     "text": [
      "Number of images: 377110\n",
      "Number of patients: 65379\n"
     ]
    }
   ],
   "source": [
    "print(\"Number of images: \" + str(len(metadata_df)))\n",
    "print(\"Number of patients: \" + str(metadata_df.subject_id.nunique()))"
   ]
  },
  {
   "cell_type": "code",
   "execution_count": 7,
   "metadata": {},
   "outputs": [
    {
     "data": {
      "text/html": [
       "<div>\n",
       "<style scoped>\n",
       "    .dataframe tbody tr th:only-of-type {\n",
       "        vertical-align: middle;\n",
       "    }\n",
       "\n",
       "    .dataframe tbody tr th {\n",
       "        vertical-align: top;\n",
       "    }\n",
       "\n",
       "    .dataframe thead th {\n",
       "        text-align: right;\n",
       "    }\n",
       "</style>\n",
       "<table border=\"1\" class=\"dataframe\">\n",
       "  <thead>\n",
       "    <tr style=\"text-align: right;\">\n",
       "      <th></th>\n",
       "      <th>subject_id</th>\n",
       "      <th>hadm_id</th>\n",
       "      <th>admittime</th>\n",
       "      <th>dischtime</th>\n",
       "      <th>deathtime</th>\n",
       "      <th>admission_type</th>\n",
       "      <th>admission_location</th>\n",
       "      <th>discharge_location</th>\n",
       "      <th>insurance</th>\n",
       "      <th>language</th>\n",
       "      <th>marital_status</th>\n",
       "      <th>ethnicity</th>\n",
       "      <th>edregtime</th>\n",
       "      <th>edouttime</th>\n",
       "      <th>hospital_expire_flag</th>\n",
       "    </tr>\n",
       "  </thead>\n",
       "  <tbody>\n",
       "    <tr>\n",
       "      <th>0</th>\n",
       "      <td>14679932</td>\n",
       "      <td>21038362</td>\n",
       "      <td>2139-09-26 14:16:00</td>\n",
       "      <td>2139-09-28 11:30:00</td>\n",
       "      <td>NaN</td>\n",
       "      <td>ELECTIVE</td>\n",
       "      <td>NaN</td>\n",
       "      <td>HOME</td>\n",
       "      <td>Other</td>\n",
       "      <td>ENGLISH</td>\n",
       "      <td>SINGLE</td>\n",
       "      <td>UNKNOWN</td>\n",
       "      <td>NaN</td>\n",
       "      <td>NaN</td>\n",
       "      <td>0</td>\n",
       "    </tr>\n",
       "    <tr>\n",
       "      <th>1</th>\n",
       "      <td>15585972</td>\n",
       "      <td>24941086</td>\n",
       "      <td>2123-10-07 23:56:00</td>\n",
       "      <td>2123-10-12 11:22:00</td>\n",
       "      <td>NaN</td>\n",
       "      <td>ELECTIVE</td>\n",
       "      <td>NaN</td>\n",
       "      <td>HOME</td>\n",
       "      <td>Other</td>\n",
       "      <td>ENGLISH</td>\n",
       "      <td>NaN</td>\n",
       "      <td>WHITE</td>\n",
       "      <td>NaN</td>\n",
       "      <td>NaN</td>\n",
       "      <td>0</td>\n",
       "    </tr>\n",
       "    <tr>\n",
       "      <th>2</th>\n",
       "      <td>11989120</td>\n",
       "      <td>21965160</td>\n",
       "      <td>2147-01-14 09:00:00</td>\n",
       "      <td>2147-01-17 14:25:00</td>\n",
       "      <td>NaN</td>\n",
       "      <td>ELECTIVE</td>\n",
       "      <td>NaN</td>\n",
       "      <td>HOME</td>\n",
       "      <td>Other</td>\n",
       "      <td>ENGLISH</td>\n",
       "      <td>NaN</td>\n",
       "      <td>UNKNOWN</td>\n",
       "      <td>NaN</td>\n",
       "      <td>NaN</td>\n",
       "      <td>0</td>\n",
       "    </tr>\n",
       "    <tr>\n",
       "      <th>3</th>\n",
       "      <td>17817079</td>\n",
       "      <td>24709883</td>\n",
       "      <td>2165-12-27 17:33:00</td>\n",
       "      <td>2165-12-31 21:18:00</td>\n",
       "      <td>NaN</td>\n",
       "      <td>ELECTIVE</td>\n",
       "      <td>NaN</td>\n",
       "      <td>HOME</td>\n",
       "      <td>Other</td>\n",
       "      <td>ENGLISH</td>\n",
       "      <td>NaN</td>\n",
       "      <td>OTHER</td>\n",
       "      <td>NaN</td>\n",
       "      <td>NaN</td>\n",
       "      <td>0</td>\n",
       "    </tr>\n",
       "    <tr>\n",
       "      <th>4</th>\n",
       "      <td>15078341</td>\n",
       "      <td>23272159</td>\n",
       "      <td>2122-08-28 08:48:00</td>\n",
       "      <td>2122-08-30 12:32:00</td>\n",
       "      <td>NaN</td>\n",
       "      <td>ELECTIVE</td>\n",
       "      <td>NaN</td>\n",
       "      <td>HOME</td>\n",
       "      <td>Other</td>\n",
       "      <td>ENGLISH</td>\n",
       "      <td>NaN</td>\n",
       "      <td>BLACK/AFRICAN AMERICAN</td>\n",
       "      <td>NaN</td>\n",
       "      <td>NaN</td>\n",
       "      <td>0</td>\n",
       "    </tr>\n",
       "  </tbody>\n",
       "</table>\n",
       "</div>"
      ],
      "text/plain": [
       "   subject_id   hadm_id            admittime            dischtime deathtime  \\\n",
       "0    14679932  21038362  2139-09-26 14:16:00  2139-09-28 11:30:00       NaN   \n",
       "1    15585972  24941086  2123-10-07 23:56:00  2123-10-12 11:22:00       NaN   \n",
       "2    11989120  21965160  2147-01-14 09:00:00  2147-01-17 14:25:00       NaN   \n",
       "3    17817079  24709883  2165-12-27 17:33:00  2165-12-31 21:18:00       NaN   \n",
       "4    15078341  23272159  2122-08-28 08:48:00  2122-08-30 12:32:00       NaN   \n",
       "\n",
       "  admission_type admission_location discharge_location insurance language  \\\n",
       "0       ELECTIVE                NaN               HOME     Other  ENGLISH   \n",
       "1       ELECTIVE                NaN               HOME     Other  ENGLISH   \n",
       "2       ELECTIVE                NaN               HOME     Other  ENGLISH   \n",
       "3       ELECTIVE                NaN               HOME     Other  ENGLISH   \n",
       "4       ELECTIVE                NaN               HOME     Other  ENGLISH   \n",
       "\n",
       "  marital_status               ethnicity edregtime edouttime  \\\n",
       "0         SINGLE                 UNKNOWN       NaN       NaN   \n",
       "1            NaN                   WHITE       NaN       NaN   \n",
       "2            NaN                 UNKNOWN       NaN       NaN   \n",
       "3            NaN                   OTHER       NaN       NaN   \n",
       "4            NaN  BLACK/AFRICAN AMERICAN       NaN       NaN   \n",
       "\n",
       "   hospital_expire_flag  \n",
       "0                     0  \n",
       "1                     0  \n",
       "2                     0  \n",
       "3                     0  \n",
       "4                     0  "
      ]
     },
     "execution_count": 7,
     "metadata": {},
     "output_type": "execute_result"
    }
   ],
   "source": [
    "admissions_df.head()"
   ]
  },
  {
   "cell_type": "code",
   "execution_count": 8,
   "metadata": {},
   "outputs": [
    {
     "data": {
      "text/plain": [
       "race\n",
       "WHITE                                        336538\n",
       "BLACK/AFRICAN AMERICAN                        75482\n",
       "OTHER                                         19788\n",
       "WHITE - OTHER EUROPEAN                        13972\n",
       "UNKNOWN                                       13870\n",
       "HISPANIC/LATINO - PUERTO RICAN                10903\n",
       "HISPANIC OR LATINO                             8287\n",
       "ASIAN                                          7809\n",
       "ASIAN - CHINESE                                7644\n",
       "WHITE - RUSSIAN                                6597\n",
       "BLACK/CAPE VERDEAN                             6205\n",
       "HISPANIC/LATINO - DOMINICAN                    6070\n",
       "BLACK/CARIBBEAN ISLAND                         3875\n",
       "BLACK/AFRICAN                                  3495\n",
       "UNABLE TO OBTAIN                               3478\n",
       "PATIENT DECLINED TO ANSWER                     2162\n",
       "PORTUGUESE                                     2082\n",
       "ASIAN - SOUTH EAST ASIAN                       1973\n",
       "WHITE - EASTERN EUROPEAN                       1886\n",
       "HISPANIC/LATINO - GUATEMALAN                   1858\n",
       "ASIAN - ASIAN INDIAN                           1661\n",
       "WHITE - BRAZILIAN                              1526\n",
       "HISPANIC/LATINO - SALVADORAN                   1320\n",
       "AMERICAN INDIAN/ALASKA NATIVE                  1247\n",
       "HISPANIC/LATINO - COLUMBIAN                     920\n",
       "HISPANIC/LATINO - MEXICAN                       883\n",
       "SOUTH AMERICAN                                  774\n",
       "HISPANIC/LATINO - HONDURAN                      725\n",
       "ASIAN - KOREAN                                  664\n",
       "HISPANIC/LATINO - CUBAN                         641\n",
       "HISPANIC/LATINO - CENTRAL AMERICAN              603\n",
       "MULTIPLE RACE/ETHNICITY                         596\n",
       "NATIVE HAWAIIAN OR OTHER PACIFIC ISLANDER       494\n",
       "Name: count, dtype: int64"
      ]
     },
     "execution_count": 8,
     "metadata": {},
     "output_type": "execute_result"
    }
   ],
   "source": [
    "admissions_df.race.value_counts()"
   ]
  },
  {
   "cell_type": "code",
   "execution_count": 10,
   "metadata": {},
   "outputs": [
    {
     "data": {
      "text/plain": [
       "race\n",
       "OTHER_WHITE                                                   2013\n",
       "WHITE_WHITE - OTHER EUROPEAN                                  1516\n",
       "UNKNOWN_WHITE                                                 1400\n",
       "WHITE_WHITE - RUSSIAN                                          547\n",
       "HISPANIC OR LATINO_HISPANIC/LATINO - PUERTO RICAN              507\n",
       "                                                              ... \n",
       "AMERICAN INDIAN/ALASKA NATIVE_MULTIPLE RACE/ETHNICITY            1\n",
       "HISPANIC/LATINO - CENTRAL AMERICAN_MULTIPLE RACE/ETHNICITY       1\n",
       "ASIAN - KOREAN_OTHER                                             1\n",
       "HISPANIC/LATINO - COLUMBIAN_HISPANIC/LATINO - DOMINICAN          1\n",
       "HISPANIC/LATINO - SALVADORAN_SOUTH AMERICAN                      1\n",
       "Name: count, Length: 461, dtype: int64"
      ]
     },
     "execution_count": 10,
     "metadata": {},
     "output_type": "execute_result"
    }
   ],
   "source": [
    "# remove patients who have inconsistent documented race information\n",
    "# credit to github.com/robintibor\n",
    "ethnicity_df = admissions_df.loc[:,['subject_id', 'race']].drop_duplicates()\n",
    "\n",
    "v = ethnicity_df.subject_id.value_counts()\n",
    "subject_id_more_than_once = v.index[v.gt(1)]\n",
    "\n",
    "ambiguous_ethnicity_df = ethnicity_df[ethnicity_df.subject_id.isin(subject_id_more_than_once)]\n",
    "inconsistent_race = ambiguous_ethnicity_df.subject_id.unique()\n",
    "\n",
    "grouped = ambiguous_ethnicity_df.groupby('subject_id')\n",
    "grouped.aggregate(lambda x: \"_\".join(sorted(x))).race.value_counts()"
   ]
  },
  {
   "cell_type": "code",
   "execution_count": 20,
   "metadata": {},
   "outputs": [
    {
     "data": {
      "text/plain": [
       "Index(['subject_id', 'hadm_id', 'stay_id', 'first_careunit', 'last_careunit',\n",
       "       'intime', 'outtime', 'los', 'Match', 'study_id', 'Label',\n",
       "       'ViewPosition', 'path', 'EarlyBoundary', 'PostGapStart', 'PostGapStop',\n",
       "       'Cardiomegaly', 'ethnicity', 'anchor_age', 'anchor_year', 'gender',\n",
       "       'HR_mean', 'ABPs_mean', 'ABPd_mean', 'ABPm_mean', 'NBPs_mean',\n",
       "       'NBPd_mean', 'NBPm_mean', 'RR_mean', 'PO2_mean', 'SaO2_mean',\n",
       "       'PCO2_mean', 'PH_mean', 'SpO2_mean', 'Cholesterol_mean', 'Sodium_mean',\n",
       "       'Temp(F)_mean', 'FiO2_mean', 'Albumin_mean', 'PlateletCount_mean',\n",
       "       'HR_max', 'ABPs_max', 'ABPd_max', 'ABPm_max', 'NBPs_max', 'NBPd_max',\n",
       "       'NBPm_max', 'RR_max', 'PCO2_max', 'Sodium_max', 'FiO2_max', 'HR_min',\n",
       "       'ABPs_min', 'ABPd_min', 'ABPm_min', 'NBPs_min', 'NBPd_min', 'NBPm_min',\n",
       "       'RR_min', 'PCO2_min', 'SpO2_min', 'Sodium_min', 'Hemoglobin_mean',\n",
       "       'Lactate_mean', 'Tidal_Volume_mean', 'ALT_mean',\n",
       "       'Alkaline_Phosphatase_mean', 'Bilirubin', 'Calcium_Total_mean',\n",
       "       'Chloride_mean', 'Creatinine_mean', 'Glucose_mean', 'Magnesium_mean',\n",
       "       'Phosphate_mean', 'Potassium_mean', 'Troponin-T_mean',\n",
       "       'Urea_Nitrogren_mean', 'Fibrinogen', 'Hematocrit_mean', 'PTT_mean',\n",
       "       'WBC_mean', 'Hemoglobin_max', 'Potassium_max', 'Troponin-T_max',\n",
       "       'WBC_max', 'Hemoglobin_min', 'Potassium_min', 'WBC_min', 'race'],\n",
       "      dtype='object')"
      ]
     },
     "execution_count": 20,
     "metadata": {},
     "output_type": "execute_result"
    }
   ],
   "source": [
    "data_pipeline_df.columns"
   ]
  },
  {
   "cell_type": "code",
   "execution_count": 15,
   "metadata": {},
   "outputs": [
    {
     "name": "stdout",
     "output_type": "stream",
     "text": [
      "Number of images: 13901\n",
      "Number of patients: 10215\n"
     ]
    }
   ],
   "source": [
    "print(\"Number of images: \" + str(len(data_pipeline_df)))\n",
    "print(\"Number of patients: \" + str(data_pipeline_df.subject_id.nunique()))"
   ]
  },
  {
   "cell_type": "code",
   "execution_count": 10,
   "metadata": {},
   "outputs": [],
   "source": [
    "merge_df = pd.merge(metadata_df,diagnosis_df,on=['subject_id', 'study_id'])\n",
    "merge_df = pd.merge(merge_df,ethnicity_df,on='subject_id')\n",
    "merge_df = merge_df[~merge_df.subject_id.isin(inconsistent_race)]\n",
    "merge_df = merge_df.rename(columns={\"ethnicity\": \"race\"})\n",
    "merge_df = merge_df[merge_df.race.isin(['ASIAN','BLACK/AFRICAN AMERICAN','WHITE'])]\n",
    "merge_df = merge_df[merge_df.ViewPosition.isin(['AP','PA'])]"
   ]
  },
  {
   "cell_type": "code",
   "execution_count": 11,
   "metadata": {},
   "outputs": [],
   "source": [
    "df_cxr = pd.merge(merge_df,patients_df, on='subject_id')"
   ]
  },
  {
   "cell_type": "code",
   "execution_count": 12,
   "metadata": {},
   "outputs": [
    {
     "name": "stdout",
     "output_type": "stream",
     "text": [
      "Total images after inclusion/exclusion criteria: 183207\n",
      "Total patients after inclusion/exclusion criteria: 43209\n"
     ]
    }
   ],
   "source": [
    "print(\"Total images after inclusion/exclusion criteria: \" + str(len(df_cxr)))\n",
    "print(\"Total patients after inclusion/exclusion criteria: \" + str(df_cxr.subject_id.nunique()))"
   ]
  },
  {
   "cell_type": "code",
   "execution_count": 13,
   "metadata": {},
   "outputs": [],
   "source": [
    "df_cxr = df_cxr.rename(columns={'gender': 'sex'})\n",
    "df_cxr = df_cxr.rename(columns={'anchor_age': 'age'})\n",
    "\n",
    "study_year = np.floor(df_cxr['StudyDate'] / 10000)\n",
    "delta_years = study_year - df_cxr['anchor_year']\n",
    "df_cxr['age'] = df_cxr['age'] + delta_years"
   ]
  },
  {
   "cell_type": "code",
   "execution_count": 14,
   "metadata": {},
   "outputs": [],
   "source": [
    "white = 'White'\n",
    "asian = 'Asian'\n",
    "black = 'Black'"
   ]
  },
  {
   "cell_type": "code",
   "execution_count": 15,
   "metadata": {},
   "outputs": [
    {
     "data": {
      "text/plain": [
       "array(['White', 'Black', 'Asian'], dtype=object)"
      ]
     },
     "execution_count": 15,
     "metadata": {},
     "output_type": "execute_result"
    }
   ],
   "source": [
    "mask = (df_cxr.race.str.contains(\"BLACK\", na=False))\n",
    "df_cxr.loc[mask, \"race\"] = black\n",
    "\n",
    "mask = (df_cxr.race.str.contains(\"WHITE\", na=False))\n",
    "df_cxr.loc[mask, \"race\"] = white\n",
    "\n",
    "mask = (df_cxr.race.str.contains(\"ASIAN\", na=False))\n",
    "df_cxr.loc[mask, \"race\"] = asian\n",
    "\n",
    "df_cxr['race'].unique()"
   ]
  },
  {
   "cell_type": "code",
   "execution_count": 16,
   "metadata": {},
   "outputs": [],
   "source": [
    "df_cxr = df_cxr[df_cxr.race.isin([asian,black,white])]"
   ]
  },
  {
   "cell_type": "code",
   "execution_count": 17,
   "metadata": {},
   "outputs": [],
   "source": [
    "df_cxr['race_label'] = df_cxr['race']\n",
    "\n",
    "df_cxr.loc[df_cxr['race_label'] == white, 'race_label'] = 0\n",
    "df_cxr.loc[df_cxr['race_label'] == asian, 'race_label'] = 1\n",
    "df_cxr.loc[df_cxr['race_label'] == black, 'race_label'] = 2"
   ]
  },
  {
   "cell_type": "code",
   "execution_count": 18,
   "metadata": {},
   "outputs": [],
   "source": [
    "df_cxr.loc[df_cxr['sex'] == 'F', 'sex'] = 'Female'\n",
    "df_cxr.loc[df_cxr['sex'] == 'M', 'sex'] = 'Male'"
   ]
  },
  {
   "cell_type": "code",
   "execution_count": 19,
   "metadata": {},
   "outputs": [],
   "source": [
    "df_cxr['sex_label'] = df_cxr['sex']\n",
    "\n",
    "df_cxr.loc[df_cxr['sex_label'] == 'Male', 'sex_label'] = 0\n",
    "df_cxr.loc[df_cxr['sex_label'] == 'Female', 'sex_label'] = 1"
   ]
  },
  {
   "cell_type": "code",
   "execution_count": 20,
   "metadata": {},
   "outputs": [
    {
     "data": {
      "text/plain": [
       "array(['Female', 'Male'], dtype=object)"
      ]
     },
     "execution_count": 20,
     "metadata": {},
     "output_type": "execute_result"
    }
   ],
   "source": [
    "df_cxr['sex'].unique()"
   ]
  },
  {
   "cell_type": "code",
   "execution_count": 21,
   "metadata": {},
   "outputs": [
    {
     "data": {
      "text/html": [
       "<div>\n",
       "<style scoped>\n",
       "    .dataframe tbody tr th:only-of-type {\n",
       "        vertical-align: middle;\n",
       "    }\n",
       "\n",
       "    .dataframe tbody tr th {\n",
       "        vertical-align: top;\n",
       "    }\n",
       "\n",
       "    .dataframe thead th {\n",
       "        text-align: right;\n",
       "    }\n",
       "</style>\n",
       "<table border=\"1\" class=\"dataframe\">\n",
       "  <thead>\n",
       "    <tr style=\"text-align: right;\">\n",
       "      <th></th>\n",
       "      <th>dicom_id</th>\n",
       "      <th>subject_id</th>\n",
       "      <th>study_id</th>\n",
       "      <th>PerformedProcedureStepDescription</th>\n",
       "      <th>ViewPosition</th>\n",
       "      <th>Rows</th>\n",
       "      <th>Columns</th>\n",
       "      <th>StudyDate</th>\n",
       "      <th>StudyTime</th>\n",
       "      <th>ProcedureCodeSequence_CodeMeaning</th>\n",
       "      <th>...</th>\n",
       "      <th>Pneumothorax</th>\n",
       "      <th>Support Devices</th>\n",
       "      <th>race</th>\n",
       "      <th>sex</th>\n",
       "      <th>age</th>\n",
       "      <th>anchor_year</th>\n",
       "      <th>anchor_year_group</th>\n",
       "      <th>dod</th>\n",
       "      <th>race_label</th>\n",
       "      <th>sex_label</th>\n",
       "    </tr>\n",
       "  </thead>\n",
       "  <tbody>\n",
       "    <tr>\n",
       "      <th>0</th>\n",
       "      <td>02aa804e-bde0afdd-112c0b34-7bc16630-4e384014</td>\n",
       "      <td>10000032</td>\n",
       "      <td>50414267</td>\n",
       "      <td>CHEST (PA AND LAT)</td>\n",
       "      <td>PA</td>\n",
       "      <td>3056</td>\n",
       "      <td>2544</td>\n",
       "      <td>21800506</td>\n",
       "      <td>213014.531</td>\n",
       "      <td>CHEST (PA AND LAT)</td>\n",
       "      <td>...</td>\n",
       "      <td>NaN</td>\n",
       "      <td>NaN</td>\n",
       "      <td>White</td>\n",
       "      <td>Female</td>\n",
       "      <td>52.0</td>\n",
       "      <td>2180</td>\n",
       "      <td>2014 - 2016</td>\n",
       "      <td>NaN</td>\n",
       "      <td>0</td>\n",
       "      <td>1</td>\n",
       "    </tr>\n",
       "    <tr>\n",
       "      <th>1</th>\n",
       "      <td>2a2277a9-b0ded155-c0de8eb9-c124d10e-82c5caab</td>\n",
       "      <td>10000032</td>\n",
       "      <td>53189527</td>\n",
       "      <td>CHEST (PA AND LAT)</td>\n",
       "      <td>PA</td>\n",
       "      <td>3056</td>\n",
       "      <td>2544</td>\n",
       "      <td>21800626</td>\n",
       "      <td>165500.312</td>\n",
       "      <td>CHEST (PA AND LAT)</td>\n",
       "      <td>...</td>\n",
       "      <td>NaN</td>\n",
       "      <td>NaN</td>\n",
       "      <td>White</td>\n",
       "      <td>Female</td>\n",
       "      <td>52.0</td>\n",
       "      <td>2180</td>\n",
       "      <td>2014 - 2016</td>\n",
       "      <td>NaN</td>\n",
       "      <td>0</td>\n",
       "      <td>1</td>\n",
       "    </tr>\n",
       "    <tr>\n",
       "      <th>2</th>\n",
       "      <td>68b5c4b1-227d0485-9cc38c3f-7b84ab51-4b472714</td>\n",
       "      <td>10000032</td>\n",
       "      <td>53911762</td>\n",
       "      <td>CHEST (PORTABLE AP)</td>\n",
       "      <td>AP</td>\n",
       "      <td>2705</td>\n",
       "      <td>2539</td>\n",
       "      <td>21800723</td>\n",
       "      <td>80556.875</td>\n",
       "      <td>CHEST (PORTABLE AP)</td>\n",
       "      <td>...</td>\n",
       "      <td>NaN</td>\n",
       "      <td>NaN</td>\n",
       "      <td>White</td>\n",
       "      <td>Female</td>\n",
       "      <td>52.0</td>\n",
       "      <td>2180</td>\n",
       "      <td>2014 - 2016</td>\n",
       "      <td>NaN</td>\n",
       "      <td>0</td>\n",
       "      <td>1</td>\n",
       "    </tr>\n",
       "    <tr>\n",
       "      <th>3</th>\n",
       "      <td>fffabebf-74fd3a1f-673b6b41-96ec0ac9-2ab69818</td>\n",
       "      <td>10000032</td>\n",
       "      <td>53911762</td>\n",
       "      <td>CHEST (PORTABLE AP)</td>\n",
       "      <td>AP</td>\n",
       "      <td>2906</td>\n",
       "      <td>2258</td>\n",
       "      <td>21800723</td>\n",
       "      <td>80556.875</td>\n",
       "      <td>CHEST (PORTABLE AP)</td>\n",
       "      <td>...</td>\n",
       "      <td>NaN</td>\n",
       "      <td>NaN</td>\n",
       "      <td>White</td>\n",
       "      <td>Female</td>\n",
       "      <td>52.0</td>\n",
       "      <td>2180</td>\n",
       "      <td>2014 - 2016</td>\n",
       "      <td>NaN</td>\n",
       "      <td>0</td>\n",
       "      <td>1</td>\n",
       "    </tr>\n",
       "    <tr>\n",
       "      <th>4</th>\n",
       "      <td>ea030e7a-2e3b1346-bc518786-7a8fd698-f673b44c</td>\n",
       "      <td>10000032</td>\n",
       "      <td>56699142</td>\n",
       "      <td>CHEST (PORTABLE AP)</td>\n",
       "      <td>AP</td>\n",
       "      <td>3056</td>\n",
       "      <td>2544</td>\n",
       "      <td>21800805</td>\n",
       "      <td>234424.765</td>\n",
       "      <td>CHEST (PORTABLE AP)</td>\n",
       "      <td>...</td>\n",
       "      <td>NaN</td>\n",
       "      <td>NaN</td>\n",
       "      <td>White</td>\n",
       "      <td>Female</td>\n",
       "      <td>52.0</td>\n",
       "      <td>2180</td>\n",
       "      <td>2014 - 2016</td>\n",
       "      <td>NaN</td>\n",
       "      <td>0</td>\n",
       "      <td>1</td>\n",
       "    </tr>\n",
       "  </tbody>\n",
       "</table>\n",
       "<p>5 rows × 34 columns</p>\n",
       "</div>"
      ],
      "text/plain": [
       "                                       dicom_id  subject_id  study_id  \\\n",
       "0  02aa804e-bde0afdd-112c0b34-7bc16630-4e384014    10000032  50414267   \n",
       "1  2a2277a9-b0ded155-c0de8eb9-c124d10e-82c5caab    10000032  53189527   \n",
       "2  68b5c4b1-227d0485-9cc38c3f-7b84ab51-4b472714    10000032  53911762   \n",
       "3  fffabebf-74fd3a1f-673b6b41-96ec0ac9-2ab69818    10000032  53911762   \n",
       "4  ea030e7a-2e3b1346-bc518786-7a8fd698-f673b44c    10000032  56699142   \n",
       "\n",
       "  PerformedProcedureStepDescription ViewPosition  Rows  Columns  StudyDate  \\\n",
       "0                CHEST (PA AND LAT)           PA  3056     2544   21800506   \n",
       "1                CHEST (PA AND LAT)           PA  3056     2544   21800626   \n",
       "2               CHEST (PORTABLE AP)           AP  2705     2539   21800723   \n",
       "3               CHEST (PORTABLE AP)           AP  2906     2258   21800723   \n",
       "4               CHEST (PORTABLE AP)           AP  3056     2544   21800805   \n",
       "\n",
       "    StudyTime ProcedureCodeSequence_CodeMeaning  ... Pneumothorax  \\\n",
       "0  213014.531                CHEST (PA AND LAT)  ...          NaN   \n",
       "1  165500.312                CHEST (PA AND LAT)  ...          NaN   \n",
       "2   80556.875               CHEST (PORTABLE AP)  ...          NaN   \n",
       "3   80556.875               CHEST (PORTABLE AP)  ...          NaN   \n",
       "4  234424.765               CHEST (PORTABLE AP)  ...          NaN   \n",
       "\n",
       "  Support Devices   race     sex   age  anchor_year  anchor_year_group  dod  \\\n",
       "0             NaN  White  Female  52.0         2180        2014 - 2016  NaN   \n",
       "1             NaN  White  Female  52.0         2180        2014 - 2016  NaN   \n",
       "2             NaN  White  Female  52.0         2180        2014 - 2016  NaN   \n",
       "3             NaN  White  Female  52.0         2180        2014 - 2016  NaN   \n",
       "4             NaN  White  Female  52.0         2180        2014 - 2016  NaN   \n",
       "\n",
       "   race_label  sex_label  \n",
       "0           0          1  \n",
       "1           0          1  \n",
       "2           0          1  \n",
       "3           0          1  \n",
       "4           0          1  \n",
       "\n",
       "[5 rows x 34 columns]"
      ]
     },
     "execution_count": 21,
     "metadata": {},
     "output_type": "execute_result"
    }
   ],
   "source": [
    "df_cxr.head()"
   ]
  },
  {
   "cell_type": "code",
   "execution_count": 22,
   "metadata": {},
   "outputs": [],
   "source": [
    "labels = [\n",
    "    'No Finding',\n",
    "    'Enlarged Cardiomediastinum',\n",
    "    'Cardiomegaly',\n",
    "    'Lung Opacity',\n",
    "    'Lung Lesion',\n",
    "    'Edema',\n",
    "    'Consolidation',\n",
    "    'Pneumonia',\n",
    "    'Atelectasis',\n",
    "    'Pneumothorax',\n",
    "    'Pleural Effusion',\n",
    "    'Pleural Other',\n",
    "    'Fracture',\n",
    "    'Support Devices']"
   ]
  },
  {
   "cell_type": "code",
   "execution_count": 23,
   "metadata": {},
   "outputs": [],
   "source": [
    "df_cxr['disease'] = df_cxr[labels[0]]\n",
    "df_cxr.loc[df_cxr[labels[0]] == 1, 'disease'] = labels[0]\n",
    "df_cxr.loc[df_cxr[labels[10]] == 1, 'disease'] = labels[10]\n",
    "df_cxr.loc[df_cxr['disease'].isna(), 'disease'] = 'Other'\n",
    "\n",
    "df_cxr['disease_label'] = df_cxr['disease']\n",
    "df_cxr.loc[df_cxr['disease_label'] == labels[0], 'disease_label'] = 0\n",
    "df_cxr.loc[df_cxr['disease_label'] == labels[10], 'disease_label'] = 1\n",
    "df_cxr.loc[df_cxr['disease_label'] == 'Other', 'disease_label'] = 2"
   ]
  },
  {
   "cell_type": "code",
   "execution_count": 24,
   "metadata": {},
   "outputs": [],
   "source": [
    "df_cxr.subject_id = df_cxr.subject_id.astype(str)\n",
    "df_cxr.study_id = df_cxr.study_id.astype(str)\n",
    "df_cxr.insert(2, \"path\", \"\")\n",
    "df_cxr.path = df_cxr.subject_id.str[0:2]\n",
    "df_cxr.path = \"p\" + df_cxr.path\n",
    "df_cxr.path = df_cxr.path + \"/p\" + df_cxr.subject_id + \"/s\" + df_cxr.study_id + \"/\" + df_cxr.dicom_id + \".jpg\""
   ]
  },
  {
   "cell_type": "code",
   "execution_count": 25,
   "metadata": {},
   "outputs": [
    {
     "data": {
      "text/html": [
       "<div>\n",
       "<style scoped>\n",
       "    .dataframe tbody tr th:only-of-type {\n",
       "        vertical-align: middle;\n",
       "    }\n",
       "\n",
       "    .dataframe tbody tr th {\n",
       "        vertical-align: top;\n",
       "    }\n",
       "\n",
       "    .dataframe thead th {\n",
       "        text-align: right;\n",
       "    }\n",
       "</style>\n",
       "<table border=\"1\" class=\"dataframe\">\n",
       "  <thead>\n",
       "    <tr style=\"text-align: right;\">\n",
       "      <th></th>\n",
       "      <th>dicom_id</th>\n",
       "      <th>subject_id</th>\n",
       "      <th>path</th>\n",
       "      <th>study_id</th>\n",
       "      <th>PerformedProcedureStepDescription</th>\n",
       "      <th>ViewPosition</th>\n",
       "      <th>Rows</th>\n",
       "      <th>Columns</th>\n",
       "      <th>StudyDate</th>\n",
       "      <th>StudyTime</th>\n",
       "      <th>...</th>\n",
       "      <th>race</th>\n",
       "      <th>sex</th>\n",
       "      <th>age</th>\n",
       "      <th>anchor_year</th>\n",
       "      <th>anchor_year_group</th>\n",
       "      <th>dod</th>\n",
       "      <th>race_label</th>\n",
       "      <th>sex_label</th>\n",
       "      <th>disease</th>\n",
       "      <th>disease_label</th>\n",
       "    </tr>\n",
       "  </thead>\n",
       "  <tbody>\n",
       "    <tr>\n",
       "      <th>0</th>\n",
       "      <td>02aa804e-bde0afdd-112c0b34-7bc16630-4e384014</td>\n",
       "      <td>10000032</td>\n",
       "      <td>p10/p10000032/s50414267/02aa804e-bde0afdd-112c...</td>\n",
       "      <td>50414267</td>\n",
       "      <td>CHEST (PA AND LAT)</td>\n",
       "      <td>PA</td>\n",
       "      <td>3056</td>\n",
       "      <td>2544</td>\n",
       "      <td>21800506</td>\n",
       "      <td>213014.531</td>\n",
       "      <td>...</td>\n",
       "      <td>White</td>\n",
       "      <td>Female</td>\n",
       "      <td>52.0</td>\n",
       "      <td>2180</td>\n",
       "      <td>2014 - 2016</td>\n",
       "      <td>NaN</td>\n",
       "      <td>0</td>\n",
       "      <td>1</td>\n",
       "      <td>No Finding</td>\n",
       "      <td>0</td>\n",
       "    </tr>\n",
       "    <tr>\n",
       "      <th>1</th>\n",
       "      <td>2a2277a9-b0ded155-c0de8eb9-c124d10e-82c5caab</td>\n",
       "      <td>10000032</td>\n",
       "      <td>p10/p10000032/s53189527/2a2277a9-b0ded155-c0de...</td>\n",
       "      <td>53189527</td>\n",
       "      <td>CHEST (PA AND LAT)</td>\n",
       "      <td>PA</td>\n",
       "      <td>3056</td>\n",
       "      <td>2544</td>\n",
       "      <td>21800626</td>\n",
       "      <td>165500.312</td>\n",
       "      <td>...</td>\n",
       "      <td>White</td>\n",
       "      <td>Female</td>\n",
       "      <td>52.0</td>\n",
       "      <td>2180</td>\n",
       "      <td>2014 - 2016</td>\n",
       "      <td>NaN</td>\n",
       "      <td>0</td>\n",
       "      <td>1</td>\n",
       "      <td>No Finding</td>\n",
       "      <td>0</td>\n",
       "    </tr>\n",
       "    <tr>\n",
       "      <th>2</th>\n",
       "      <td>68b5c4b1-227d0485-9cc38c3f-7b84ab51-4b472714</td>\n",
       "      <td>10000032</td>\n",
       "      <td>p10/p10000032/s53911762/68b5c4b1-227d0485-9cc3...</td>\n",
       "      <td>53911762</td>\n",
       "      <td>CHEST (PORTABLE AP)</td>\n",
       "      <td>AP</td>\n",
       "      <td>2705</td>\n",
       "      <td>2539</td>\n",
       "      <td>21800723</td>\n",
       "      <td>80556.875</td>\n",
       "      <td>...</td>\n",
       "      <td>White</td>\n",
       "      <td>Female</td>\n",
       "      <td>52.0</td>\n",
       "      <td>2180</td>\n",
       "      <td>2014 - 2016</td>\n",
       "      <td>NaN</td>\n",
       "      <td>0</td>\n",
       "      <td>1</td>\n",
       "      <td>No Finding</td>\n",
       "      <td>0</td>\n",
       "    </tr>\n",
       "    <tr>\n",
       "      <th>3</th>\n",
       "      <td>fffabebf-74fd3a1f-673b6b41-96ec0ac9-2ab69818</td>\n",
       "      <td>10000032</td>\n",
       "      <td>p10/p10000032/s53911762/fffabebf-74fd3a1f-673b...</td>\n",
       "      <td>53911762</td>\n",
       "      <td>CHEST (PORTABLE AP)</td>\n",
       "      <td>AP</td>\n",
       "      <td>2906</td>\n",
       "      <td>2258</td>\n",
       "      <td>21800723</td>\n",
       "      <td>80556.875</td>\n",
       "      <td>...</td>\n",
       "      <td>White</td>\n",
       "      <td>Female</td>\n",
       "      <td>52.0</td>\n",
       "      <td>2180</td>\n",
       "      <td>2014 - 2016</td>\n",
       "      <td>NaN</td>\n",
       "      <td>0</td>\n",
       "      <td>1</td>\n",
       "      <td>No Finding</td>\n",
       "      <td>0</td>\n",
       "    </tr>\n",
       "    <tr>\n",
       "      <th>4</th>\n",
       "      <td>ea030e7a-2e3b1346-bc518786-7a8fd698-f673b44c</td>\n",
       "      <td>10000032</td>\n",
       "      <td>p10/p10000032/s56699142/ea030e7a-2e3b1346-bc51...</td>\n",
       "      <td>56699142</td>\n",
       "      <td>CHEST (PORTABLE AP)</td>\n",
       "      <td>AP</td>\n",
       "      <td>3056</td>\n",
       "      <td>2544</td>\n",
       "      <td>21800805</td>\n",
       "      <td>234424.765</td>\n",
       "      <td>...</td>\n",
       "      <td>White</td>\n",
       "      <td>Female</td>\n",
       "      <td>52.0</td>\n",
       "      <td>2180</td>\n",
       "      <td>2014 - 2016</td>\n",
       "      <td>NaN</td>\n",
       "      <td>0</td>\n",
       "      <td>1</td>\n",
       "      <td>No Finding</td>\n",
       "      <td>0</td>\n",
       "    </tr>\n",
       "  </tbody>\n",
       "</table>\n",
       "<p>5 rows × 37 columns</p>\n",
       "</div>"
      ],
      "text/plain": [
       "                                       dicom_id subject_id  \\\n",
       "0  02aa804e-bde0afdd-112c0b34-7bc16630-4e384014   10000032   \n",
       "1  2a2277a9-b0ded155-c0de8eb9-c124d10e-82c5caab   10000032   \n",
       "2  68b5c4b1-227d0485-9cc38c3f-7b84ab51-4b472714   10000032   \n",
       "3  fffabebf-74fd3a1f-673b6b41-96ec0ac9-2ab69818   10000032   \n",
       "4  ea030e7a-2e3b1346-bc518786-7a8fd698-f673b44c   10000032   \n",
       "\n",
       "                                                path  study_id  \\\n",
       "0  p10/p10000032/s50414267/02aa804e-bde0afdd-112c...  50414267   \n",
       "1  p10/p10000032/s53189527/2a2277a9-b0ded155-c0de...  53189527   \n",
       "2  p10/p10000032/s53911762/68b5c4b1-227d0485-9cc3...  53911762   \n",
       "3  p10/p10000032/s53911762/fffabebf-74fd3a1f-673b...  53911762   \n",
       "4  p10/p10000032/s56699142/ea030e7a-2e3b1346-bc51...  56699142   \n",
       "\n",
       "  PerformedProcedureStepDescription ViewPosition  Rows  Columns  StudyDate  \\\n",
       "0                CHEST (PA AND LAT)           PA  3056     2544   21800506   \n",
       "1                CHEST (PA AND LAT)           PA  3056     2544   21800626   \n",
       "2               CHEST (PORTABLE AP)           AP  2705     2539   21800723   \n",
       "3               CHEST (PORTABLE AP)           AP  2906     2258   21800723   \n",
       "4               CHEST (PORTABLE AP)           AP  3056     2544   21800805   \n",
       "\n",
       "    StudyTime  ...   race     sex   age  anchor_year  anchor_year_group  dod  \\\n",
       "0  213014.531  ...  White  Female  52.0         2180        2014 - 2016  NaN   \n",
       "1  165500.312  ...  White  Female  52.0         2180        2014 - 2016  NaN   \n",
       "2   80556.875  ...  White  Female  52.0         2180        2014 - 2016  NaN   \n",
       "3   80556.875  ...  White  Female  52.0         2180        2014 - 2016  NaN   \n",
       "4  234424.765  ...  White  Female  52.0         2180        2014 - 2016  NaN   \n",
       "\n",
       "   race_label  sex_label     disease  disease_label  \n",
       "0           0          1  No Finding              0  \n",
       "1           0          1  No Finding              0  \n",
       "2           0          1  No Finding              0  \n",
       "3           0          1  No Finding              0  \n",
       "4           0          1  No Finding              0  \n",
       "\n",
       "[5 rows x 37 columns]"
      ]
     },
     "execution_count": 25,
     "metadata": {},
     "output_type": "execute_result"
    }
   ],
   "source": [
    "df_cxr.head()"
   ]
  },
  {
   "cell_type": "markdown",
   "metadata": {},
   "source": [
    "### Pre-processing of imaging dataset (this may take a few hours, needed only once)"
   ]
  },
  {
   "cell_type": "code",
   "execution_count": null,
   "metadata": {},
   "outputs": [],
   "source": [
    "img_data_dir = '<path_to_imaging_data>'"
   ]
  },
  {
   "cell_type": "code",
   "execution_count": null,
   "metadata": {},
   "outputs": [],
   "source": [
    "from skimage.io import imread\n",
    "from skimage.io import imsave\n",
    "from skimage.transform import resize\n",
    "\n",
    "df_cxr['path_preproc'] = df_cxr['path']\n",
    "\n",
    "preproc_dir = 'preproc_224x224/'\n",
    "out_dir = img_data_dir\n",
    "\n",
    "if not os.path.exists(out_dir + preproc_dir):\n",
    "    os.makedirs(out_dir + preproc_dir)\n",
    "\n",
    "for idx, p in enumerate(tqdm(df_cxr['path'])):\n",
    "\n",
    "    split =  p.split(\"/\")\n",
    "    preproc_filename = split[2] + '_'+ split[3]\n",
    "    df_cxr.loc[idx, 'path_preproc'] = preproc_dir + preproc_filename\n",
    "    out_path = out_dir + preproc_dir + preproc_filename\n",
    "    \n",
    "    if not os.path.exists(out_path):\n",
    "        image = imread(img_data_dir + p)\n",
    "        image = resize(image, output_shape=(224, 224), preserve_range=True)\n",
    "        imsave(out_path, image.astype(np.uint8))"
   ]
  },
  {
   "cell_type": "markdown",
   "metadata": {},
   "source": [
    "### Random splitting into train, validation, test"
   ]
  },
  {
   "cell_type": "code",
   "execution_count": null,
   "metadata": {},
   "outputs": [],
   "source": [
    "df_cxr.insert(5, \"split\",\"none\", True)\n",
    "unique_sub_id = df_cxr.subject_id.unique()\n",
    "\n",
    "train_percent, valid_percent, test_percent = 0.60, 0.10, 0.30\n",
    "\n",
    "unique_sub_id = shuffle(unique_sub_id)\n",
    "value1 = (round(len(unique_sub_id)*train_percent))\n",
    "value2 = (round(len(unique_sub_id)*valid_percent))\n",
    "value3 = value1 + value2\n",
    "value4 = (round(len(unique_sub_id)*test_percent))"
   ]
  },
  {
   "cell_type": "code",
   "execution_count": null,
   "metadata": {},
   "outputs": [],
   "source": [
    "print(\"Patients in training set: \" + str(value1))"
   ]
  },
  {
   "cell_type": "code",
   "execution_count": null,
   "metadata": {},
   "outputs": [],
   "source": [
    "print(\"Patients in validation set: \" + str(value2))"
   ]
  },
  {
   "cell_type": "code",
   "execution_count": null,
   "metadata": {},
   "outputs": [],
   "source": [
    "print(\"Patients in testing set: \" + str(value4))"
   ]
  },
  {
   "cell_type": "code",
   "execution_count": null,
   "metadata": {},
   "outputs": [],
   "source": [
    "df_cxr = shuffle(df_cxr)\n",
    "\n",
    "train_sub_id = unique_sub_id[:value1]\n",
    "validate_sub_id = unique_sub_id[value1:value3]\n",
    "test_sub_id = unique_sub_id[value3:]"
   ]
  },
  {
   "cell_type": "code",
   "execution_count": null,
   "metadata": {},
   "outputs": [],
   "source": [
    "df_cxr.loc[df_cxr.subject_id.isin(train_sub_id), \"split\"]=\"train\"\n",
    "df_cxr.loc[df_cxr.subject_id.isin(validate_sub_id), \"split\"]=\"validate\"\n",
    "df_cxr.loc[df_cxr.subject_id.isin(test_sub_id), \"split\"]=\"test\""
   ]
  },
  {
   "cell_type": "code",
   "execution_count": null,
   "metadata": {},
   "outputs": [],
   "source": [
    "df_cxr.split.value_counts(normalize=True)"
   ]
  },
  {
   "cell_type": "code",
   "execution_count": null,
   "metadata": {},
   "outputs": [],
   "source": [
    "df_cxr.split.value_counts(normalize=False)"
   ]
  },
  {
   "cell_type": "markdown",
   "metadata": {},
   "source": [
    "### Save full sample"
   ]
  },
  {
   "cell_type": "code",
   "execution_count": null,
   "metadata": {},
   "outputs": [],
   "source": [
    "df_cxr.to_csv(data_dir + 'mimic.sample.csv')"
   ]
  },
  {
   "cell_type": "markdown",
   "metadata": {},
   "source": [
    "## Creating subsets"
   ]
  },
  {
   "cell_type": "code",
   "execution_count": 26,
   "metadata": {},
   "outputs": [],
   "source": [
    "df_cxr = pd.read_csv(data_dir + 'mimic.sample.csv')"
   ]
  },
  {
   "cell_type": "code",
   "execution_count": 27,
   "metadata": {},
   "outputs": [],
   "source": [
    "df_train = df_cxr[df_cxr.split==\"train\"]\n",
    "df_val = df_cxr[df_cxr.split==\"validate\"]\n",
    "df_test = df_cxr[df_cxr.split==\"test\"]"
   ]
  },
  {
   "cell_type": "code",
   "execution_count": null,
   "metadata": {},
   "outputs": [],
   "source": [
    "df_train.to_csv(data_dir + 'mimic.sample.train.csv')\n",
    "df_val.to_csv(data_dir + 'mimic.sample.val.csv')\n",
    "df_test.to_csv(data_dir + 'mimic.sample.test.csv')"
   ]
  },
  {
   "cell_type": "code",
   "execution_count": null,
   "metadata": {},
   "outputs": [],
   "source": [
    "df_train_white = df_train[df_train['race'] == white]\n",
    "df_val_white = df_val[df_val['race'] == white]\n",
    "df_train_white.to_csv(data_dir + 'mimic.sample.train.white.csv')\n",
    "df_val_white.to_csv(data_dir + 'mimic.sample.val.white.csv')\n",
    "\n",
    "df_cxr_white = df_cxr[df_cxr['race'] == white]\n",
    "df_cxr_asian = df_cxr[df_cxr['race'] == asian]\n",
    "df_cxr_black = df_cxr[df_cxr['race'] == black]\n",
    "\n",
    "df_test_white = df_test[df_test['race'] == white]\n",
    "df_test_asian = df_test[df_test['race'] == asian]\n",
    "df_test_black = df_test[df_test['race'] == black]\n",
    "\n",
    "df_train_asian = df_train[df_train['race'] == asian]\n",
    "df_train_black = df_train[df_train['race'] == black]\n",
    "\n",
    "df_val_asian = df_val[df_val['race'] == asian]\n",
    "df_val_black = df_val[df_val['race'] == black]"
   ]
  },
  {
   "cell_type": "code",
   "execution_count": null,
   "metadata": {},
   "outputs": [],
   "source": [
    "df_train_male = df_train[df_train['sex'] == 'Male']\n",
    "df_val_male = df_val[df_val['sex'] == 'Male']\n",
    "df_train_male.to_csv(data_dir + 'mimic.sample.train.male.csv')\n",
    "df_val_male.to_csv(data_dir + 'mimic.sample.val.male.csv')"
   ]
  },
  {
   "cell_type": "markdown",
   "metadata": {},
   "source": [
    "## Plots"
   ]
  },
  {
   "cell_type": "code",
   "execution_count": 28,
   "metadata": {},
   "outputs": [],
   "source": [
    "df_cxr.loc[df_cxr['disease'] == 'Pleural Effusion', 'disease'] = 'Pleur. Eff.'\n",
    "df_cxr.loc[df_cxr['disease'] == 'No Finding', 'disease'] = 'No Find.'"
   ]
  },
  {
   "cell_type": "code",
   "execution_count": 29,
   "metadata": {},
   "outputs": [
    {
     "data": {
      "image/png": "[encoded data removed]",
      "text/plain": [
       "<Figure size 425.125x360 with 1 Axes>"
      ]
     },
     "metadata": {
      "needs_background": "light"
     },
     "output_type": "display_data"
    }
   ],
   "source": [
    "fontsize = 16\n",
    "plt.rc('xtick', labelsize=fontsize) \n",
    "plt.rc('ytick', labelsize=fontsize)\n",
    "fig = sns.catplot(x='sex', y='age', hue='race', order=['Male', 'Female'], hue_order=['White', 'Asian', 'Black'], kind=\"box\", data=df_cxr)\n",
    "fig._legend.remove()\n",
    "plt.xlabel('', fontsize=fontsize)\n",
    "plt.ylabel('Age (years)', fontsize=fontsize)\n",
    "plt.ylim([0, 100])\n",
    "plt.legend(fontsize=fontsize, loc='lower center', ncol=3)\n",
    "plt.show()\n",
    "# fig.savefig(\"MIMIC-age-sex-race.png\", bbox_inches='tight', dpi=300)"
   ]
  },
  {
   "cell_type": "code",
   "execution_count": 30,
   "metadata": {},
   "outputs": [
    {
     "data": {
      "image/png": "[encoded data removed]",
      "text/plain": [
       "<Figure size 425.125x360 with 1 Axes>"
      ]
     },
     "metadata": {
      "needs_background": "light"
     },
     "output_type": "display_data"
    }
   ],
   "source": [
    "fig = sns.catplot(x='disease', y='age', hue='race', order=['Other', 'Pleur. Eff.', 'No Find.'], hue_order=['White', 'Asian', 'Black'], kind=\"box\", data=df_cxr)\n",
    "fig._legend.remove()\n",
    "plt.xlabel('', fontsize=fontsize)\n",
    "plt.ylabel('Age (years)', fontsize=fontsize)\n",
    "plt.ylim([0, 100])\n",
    "plt.legend(fontsize=fontsize, loc='lower center', ncol=3)\n",
    "plt.show()\n",
    "# fig.savefig(\"MIMIC-age-pathology-race.png\", bbox_inches='tight', dpi=300)"
   ]
  },
  {
   "cell_type": "code",
   "execution_count": 31,
   "metadata": {},
   "outputs": [
    {
     "data": {
      "image/png": "[encoded data removed]",
      "text/plain": [
       "<Figure size 432.125x360 with 1 Axes>"
      ]
     },
     "metadata": {
      "needs_background": "light"
     },
     "output_type": "display_data"
    }
   ],
   "source": [
    "fig = sns.catplot(x='disease', hue='sex', order=['Other', 'Pleur. Eff.', 'No Find.'], hue_order=['Male', 'Female'], data=df_cxr, kind='count')\n",
    "fig._legend.remove()\n",
    "plt.xlabel('', fontsize=fontsize)\n",
    "plt.ylabel('Count', fontsize=fontsize)\n",
    "plt.legend(fontsize=fontsize)\n",
    "plt.show()\n",
    "# fig.savefig(\"MIMIC-sex-pathology.png\", bbox_inches='tight', dpi=300)"
   ]
  },
  {
   "cell_type": "code",
   "execution_count": 32,
   "metadata": {},
   "outputs": [
    {
     "data": {
      "image/png": "[encoded data removed]",
      "text/plain": [
       "<Figure size 425.125x360 with 1 Axes>"
      ]
     },
     "metadata": {
      "needs_background": "light"
     },
     "output_type": "display_data"
    }
   ],
   "source": [
    "fig = sns.catplot(x='disease', hue='race', order=['Other', 'Pleur. Eff.', 'No Find.'], hue_order=['White', 'Asian', 'Black'], data=df_cxr, kind='count')\n",
    "fig._legend.remove()\n",
    "plt.xlabel('', fontsize=fontsize)\n",
    "plt.ylabel('Count', fontsize=fontsize)\n",
    "plt.legend(fontsize=fontsize)\n",
    "plt.show()\n",
    "# fig.savefig(\"MIMIC-race-pathology.png\", bbox_inches='tight', dpi=300)"
   ]
  },
  {
   "cell_type": "code",
   "execution_count": 33,
   "metadata": {},
   "outputs": [
    {
     "data": {
      "image/png": "[encoded data removed]",
      "text/plain": [
       "<Figure size 360x360 with 1 Axes>"
      ]
     },
     "metadata": {
      "needs_background": "light"
     },
     "output_type": "display_data"
    }
   ],
   "source": [
    "fig = sns.catplot(x='disease', y='age', order=['Other', 'Pleur. Eff.', 'No Find.'], kind=\"box\", data=df_cxr)\n",
    "plt.xlabel('', fontsize=fontsize)\n",
    "plt.ylabel('Age (years)', fontsize=fontsize)\n",
    "plt.ylim([0, 100])\n",
    "plt.show()\n",
    "# fig.savefig(\"MIMIC-age-pathology.png\", bbox_inches='tight', dpi=300)"
   ]
  },
  {
   "cell_type": "code",
   "execution_count": 34,
   "metadata": {},
   "outputs": [
    {
     "data": {
      "image/png": "[encoded data removed]",
      "text/plain": [
       "<Figure size 360x360 with 1 Axes>"
      ]
     },
     "metadata": {
      "needs_background": "light"
     },
     "output_type": "display_data"
    }
   ],
   "source": [
    "fig = sns.catplot(x='sex', y='age', order=['Male', 'Female'], kind=\"box\", data=df_cxr)\n",
    "sns.stripplot(x='sex', y='age', color='k', order=['Male', 'Female'], alpha=0.01, data=df_cxr, ax=fig.ax)\n",
    "plt.xlabel('', fontsize=fontsize)\n",
    "plt.ylabel('Age (years)', fontsize=fontsize)\n",
    "plt.ylim([0, 100])\n",
    "plt.show()\n",
    "# fig.savefig(\"MIMIC-age-sex.png\", bbox_inches='tight', dpi=300)"
   ]
  },
  {
   "cell_type": "code",
   "execution_count": 35,
   "metadata": {},
   "outputs": [
    {
     "data": {
      "image/png": "[encoded data removed]",
      "text/plain": [
       "<Figure size 360x360 with 1 Axes>"
      ]
     },
     "metadata": {
      "needs_background": "light"
     },
     "output_type": "display_data"
    }
   ],
   "source": [
    "fig = sns.catplot(x='race', y='age', order=['White', 'Asian', 'Black'], kind=\"box\", data=df_cxr)\n",
    "sns.stripplot(x='race', y='age', color='k', order=['White', 'Asian', 'Black'], alpha=0.01, data=df_cxr, ax=fig.ax)\n",
    "plt.xlabel('', fontsize=fontsize)\n",
    "plt.ylabel('Age (years)', fontsize=fontsize)\n",
    "plt.ylim([0, 100])\n",
    "plt.show()\n",
    "# fig.savefig(\"MIMIC-age-race.png\", bbox_inches='tight', dpi=300)"
   ]
  },
  {
   "cell_type": "code",
   "execution_count": 36,
   "metadata": {},
   "outputs": [
    {
     "data": {
      "image/png": "[encoded data removed]",
      "text/plain": [
       "<Figure size 360x360 with 1 Axes>"
      ]
     },
     "metadata": {
      "needs_background": "light"
     },
     "output_type": "display_data"
    }
   ],
   "source": [
    "fig = sns.catplot(x='race', order=['White', 'Asian', 'Black'], data=df_cxr, kind='count')\n",
    "plt.xlabel('', fontsize=fontsize)\n",
    "plt.ylabel('Count', fontsize=fontsize)\n",
    "plt.show()\n",
    "# fig.savefig(\"MIMIC-race.png\", bbox_inches='tight', dpi=300)"
   ]
  },
  {
   "cell_type": "code",
   "execution_count": 37,
   "metadata": {},
   "outputs": [
    {
     "data": {
      "image/png": "[encoded data removed]",
      "text/plain": [
       "<Figure size 360x360 with 1 Axes>"
      ]
     },
     "metadata": {
      "needs_background": "light"
     },
     "output_type": "display_data"
    }
   ],
   "source": [
    "fig = sns.catplot(x='sex', order=['Male', 'Female'], data=df_cxr, kind='count')\n",
    "plt.xlabel('', fontsize=fontsize)\n",
    "plt.ylabel('Count', fontsize=fontsize)\n",
    "plt.show()\n",
    "# fig.savefig(\"MIMIC-sex.png\", bbox_inches='tight', dpi=300)"
   ]
  },
  {
   "cell_type": "code",
   "execution_count": 38,
   "metadata": {},
   "outputs": [
    {
     "data": {
      "image/png": "[encoded data removed]",
      "text/plain": [
       "<Figure size 360x360 with 1 Axes>"
      ]
     },
     "metadata": {
      "needs_background": "light"
     },
     "output_type": "display_data"
    }
   ],
   "source": [
    "fig = sns.catplot(x='disease', order=['Other', 'Pleur. Eff.', 'No Find.'], data=df_cxr, kind='count')\n",
    "plt.xlabel('', fontsize=fontsize)\n",
    "plt.ylabel('Count', fontsize=fontsize)\n",
    "plt.show()\n",
    "# fig.savefig(\"MIMIC-pathology.png\", bbox_inches='tight', dpi=300)"
   ]
  },
  {
   "cell_type": "code",
   "execution_count": 39,
   "metadata": {},
   "outputs": [
    {
     "data": {
      "image/png": "[encoded data removed]",
      "text/plain": [
       "<Figure size 432.125x360 with 1 Axes>"
      ]
     },
     "metadata": {
      "needs_background": "light"
     },
     "output_type": "display_data"
    }
   ],
   "source": [
    "fig = sns.catplot(x='race', hue='sex', order=['White', 'Asian', 'Black'], hue_order=['Male', 'Female'], data=df_cxr, kind='count')\n",
    "fig._legend.remove()\n",
    "plt.xlabel('', fontsize=fontsize)\n",
    "plt.ylabel('Count', fontsize=fontsize)\n",
    "plt.legend(fontsize=fontsize)\n",
    "plt.show()\n",
    "# fig.savefig(\"MIMIC-sex-race.png\", bbox_inches='tight', dpi=300)"
   ]
  },
  {
   "cell_type": "code",
   "execution_count": 40,
   "metadata": {},
   "outputs": [
    {
     "data": {
      "image/png": "[encoded data removed]",
      "text/plain": [
       "<Figure size 425.125x360 with 1 Axes>"
      ]
     },
     "metadata": {
      "needs_background": "light"
     },
     "output_type": "display_data"
    }
   ],
   "source": [
    "fig = sns.catplot(x='sex', hue='race', order=['Male', 'Female'], hue_order=['White', 'Asian', 'Black'], data=df_cxr, kind='count')\n",
    "fig._legend.remove()\n",
    "plt.xlabel('', fontsize=fontsize)\n",
    "plt.ylabel('Count', fontsize=fontsize)\n",
    "plt.legend(fontsize=fontsize)\n",
    "plt.show()\n",
    "# fig.savefig(\"MIMIC-race-sex.png\", bbox_inches='tight', dpi=300)"
   ]
  }
 ],
 "metadata": {
  "kernelspec": {
   "display_name": "Python 3 (ipykernel)",
   "language": "python",
   "name": "python3"
  },
  "language_info": {
   "codemirror_mode": {
    "name": "ipython",
    "version": 3
   },
   "file_extension": ".py",
   "mimetype": "text/x-python",
   "name": "python",
   "nbconvert_exporter": "python",
   "pygments_lexer": "ipython3",
   "version": "3.10.11"
  }
 },
 "nbformat": 4,
 "nbformat_minor": 4
}
